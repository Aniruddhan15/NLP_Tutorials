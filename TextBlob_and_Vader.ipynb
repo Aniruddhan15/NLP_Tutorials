{
  "nbformat": 4,
  "nbformat_minor": 0,
  "metadata": {
    "colab": {
      "provenance": []
    },
    "kernelspec": {
      "name": "python3",
      "display_name": "Python 3"
    },
    "language_info": {
      "name": "python"
    }
  },
  "cells": [
    {
      "cell_type": "markdown",
      "source": [
        "# Sentiment Analysis using TextBlob\n"
      ],
      "metadata": {
        "id": "4n4IT3OL-B8q"
      }
    },
    {
      "cell_type": "markdown",
      "source": [
        "\n",
        "*  **input** : single sentence\n",
        "*   **output** :  polarity and subjectivity\n",
        "\n"
      ],
      "metadata": {
        "id": "YKI5X9Rh98y1"
      }
    },
    {
      "cell_type": "markdown",
      "source": [
        "*   **polarity** : score range is b/w -1 and 1.\n",
        "*   -1 => most negative and +1 is most positive\n",
        "\n"
      ],
      "metadata": {
        "id": "RRk_nktB-UZo"
      }
    },
    {
      "cell_type": "markdown",
      "source": [
        "# Subjectivity:\n",
        "Subjectivity score lies between (0 and 1), It shows the amount of personal opinion, If a sentence has high subjectivity i.e. close to 1, It resembles that the text contains more personal opinion than factual information"
      ],
      "metadata": {
        "id": "0kEV8UC_-ZUU"
      }
    },
    {
      "cell_type": "code",
      "source": [
        "pip install textblob"
      ],
      "metadata": {
        "colab": {
          "base_uri": "https://localhost:8080/"
        },
        "id": "V8QYWDmIF49M",
        "outputId": "5d9c0dd9-6dff-4c15-b4ae-7e71f7f9be61"
      },
      "execution_count": 1,
      "outputs": [
        {
          "output_type": "stream",
          "name": "stdout",
          "text": [
            "Requirement already satisfied: textblob in /usr/local/lib/python3.10/dist-packages (0.17.1)\n",
            "Requirement already satisfied: nltk>=3.1 in /usr/local/lib/python3.10/dist-packages (from textblob) (3.8.1)\n",
            "Requirement already satisfied: click in /usr/local/lib/python3.10/dist-packages (from nltk>=3.1->textblob) (8.1.7)\n",
            "Requirement already satisfied: joblib in /usr/local/lib/python3.10/dist-packages (from nltk>=3.1->textblob) (1.3.2)\n",
            "Requirement already satisfied: regex>=2021.8.3 in /usr/local/lib/python3.10/dist-packages (from nltk>=3.1->textblob) (2023.6.3)\n",
            "Requirement already satisfied: tqdm in /usr/local/lib/python3.10/dist-packages (from nltk>=3.1->textblob) (4.66.1)\n"
          ]
        }
      ]
    },
    {
      "cell_type": "code",
      "source": [
        "from textblob import TextBlob"
      ],
      "metadata": {
        "id": "1fiNSNQg_YNY"
      },
      "execution_count": 4,
      "outputs": []
    },
    {
      "cell_type": "code",
      "source": [
        "res = TextBlob(\"This movie is amazingly directed\")"
      ],
      "metadata": {
        "id": "ayt97wIJ-spL"
      },
      "execution_count": 5,
      "outputs": []
    },
    {
      "cell_type": "code",
      "source": [
        "print(\"Polarity score: \", res.sentiment.polarity)"
      ],
      "metadata": {
        "colab": {
          "base_uri": "https://localhost:8080/"
        },
        "id": "6owvrTb0-xwj",
        "outputId": "75d2f287-d2ce-4d9f-d7b8-d56cf3132e95"
      },
      "execution_count": 6,
      "outputs": [
        {
          "output_type": "stream",
          "name": "stdout",
          "text": [
            "Polarity score:  0.6000000000000001\n"
          ]
        }
      ]
    },
    {
      "cell_type": "code",
      "source": [
        "sent = TextBlob(\"This movie is badly directed.\")\n",
        "print(\"Polarity score: \", sent.sentiment.polarity)"
      ],
      "metadata": {
        "colab": {
          "base_uri": "https://localhost:8080/"
        },
        "id": "Wnsjvk7j_gsA",
        "outputId": "ad7a5e95-49c7-48c5-afb0-4e8531d7273e"
      },
      "execution_count": 7,
      "outputs": [
        {
          "output_type": "stream",
          "name": "stdout",
          "text": [
            "Polarity score:  -0.6999999999999998\n"
          ]
        }
      ]
    },
    {
      "cell_type": "markdown",
      "source": [
        "**TextBlob classified it as positive with a polarity score of 0.15. That made me curious and forced me to do some more exploration on how TextBlob works and the finding was when any negation is added with any sentence it simply multiplies -0.5 to the polarity score of the word. In my case, it was the word “slow” which was a negative word and have a polarity score of -0.3 so when it multiplies -0.5 then the resulting polarity of the sentence becomes positive 0.15.**"
      ],
      "metadata": {
        "id": "XakTpfSuBMrA"
      }
    },
    {
      "cell_type": "markdown",
      "source": [
        "Vader Sentiment Analysis"
      ],
      "metadata": {
        "id": "KTyWIpNcBUy7"
      }
    },
    {
      "cell_type": "code",
      "source": [
        "pip install vaderSentiment"
      ],
      "metadata": {
        "colab": {
          "base_uri": "https://localhost:8080/"
        },
        "id": "lumStYTA_rci",
        "outputId": "30741fed-27c2-42c3-984a-c1876a82cde7"
      },
      "execution_count": 8,
      "outputs": [
        {
          "output_type": "stream",
          "name": "stdout",
          "text": [
            "Collecting vaderSentiment\n",
            "  Downloading vaderSentiment-3.3.2-py2.py3-none-any.whl (125 kB)\n",
            "\u001b[?25l     \u001b[90m━━━━━━━━━━━━━━━━━━━━━━━━━━━━━━━━━━━━━━━━\u001b[0m \u001b[32m0.0/126.0 kB\u001b[0m \u001b[31m?\u001b[0m eta \u001b[36m-:--:--\u001b[0m\r\u001b[2K     \u001b[91m━━━━━━━━━━━━━━━━━━━━━━━━━━\u001b[0m\u001b[90m╺\u001b[0m\u001b[90m━━━━━━━━━━━━━\u001b[0m \u001b[32m81.9/126.0 kB\u001b[0m \u001b[31m2.3 MB/s\u001b[0m eta \u001b[36m0:00:01\u001b[0m\r\u001b[2K     \u001b[90m━━━━━━━━━━━━━━━━━━━━━━━━━━━━━━━━━━━━━━━━\u001b[0m \u001b[32m126.0/126.0 kB\u001b[0m \u001b[31m2.5 MB/s\u001b[0m eta \u001b[36m0:00:00\u001b[0m\n",
            "\u001b[?25hRequirement already satisfied: requests in /usr/local/lib/python3.10/dist-packages (from vaderSentiment) (2.31.0)\n",
            "Requirement already satisfied: charset-normalizer<4,>=2 in /usr/local/lib/python3.10/dist-packages (from requests->vaderSentiment) (3.3.2)\n",
            "Requirement already satisfied: idna<4,>=2.5 in /usr/local/lib/python3.10/dist-packages (from requests->vaderSentiment) (3.6)\n",
            "Requirement already satisfied: urllib3<3,>=1.21.1 in /usr/local/lib/python3.10/dist-packages (from requests->vaderSentiment) (2.0.7)\n",
            "Requirement already satisfied: certifi>=2017.4.17 in /usr/local/lib/python3.10/dist-packages (from requests->vaderSentiment) (2023.11.17)\n",
            "Installing collected packages: vaderSentiment\n",
            "Successfully installed vaderSentiment-3.3.2\n"
          ]
        }
      ]
    },
    {
      "cell_type": "code",
      "source": [
        "from vaderSentiment.vaderSentiment import SentimentIntensityAnalyzer"
      ],
      "metadata": {
        "id": "5oTQFZS_BZoU"
      },
      "execution_count": 9,
      "outputs": []
    },
    {
      "cell_type": "code",
      "source": [
        "pol = SentimentIntensityAnalyzer()"
      ],
      "metadata": {
        "id": "mMdfwGRWBhib"
      },
      "execution_count": 10,
      "outputs": []
    },
    {
      "cell_type": "code",
      "source": [
        "print(pol.polarity_scores(\"This is the best Face Recognition at this price.\"))"
      ],
      "metadata": {
        "colab": {
          "base_uri": "https://localhost:8080/"
        },
        "id": "fCkkuMk9BntD",
        "outputId": "349fa739-7254-4738-dd6c-8cda23253b20"
      },
      "execution_count": 12,
      "outputs": [
        {
          "output_type": "stream",
          "name": "stdout",
          "text": [
            "{'neg': 0.0, 'neu': 0.656, 'pos': 0.344, 'compound': 0.6369}\n"
          ]
        }
      ]
    },
    {
      "cell_type": "code",
      "source": [
        "print(pol.polarity_scores(\"This is the not best Face Recognition at this price.\"))"
      ],
      "metadata": {
        "colab": {
          "base_uri": "https://localhost:8080/"
        },
        "id": "JznAAQZrBvW8",
        "outputId": "f99c858f-151a-4aa6-984c-41fe0ee9d94b"
      },
      "execution_count": 13,
      "outputs": [
        {
          "output_type": "stream",
          "name": "stdout",
          "text": [
            "{'neg': 0.272, 'neu': 0.728, 'pos': 0.0, 'compound': -0.5216}\n"
          ]
        }
      ]
    },
    {
      "cell_type": "markdown",
      "source": [
        "## step1: Tokenization"
      ],
      "metadata": {
        "id": "k5XQg_vxCYjJ"
      }
    },
    {
      "cell_type": "code",
      "source": [
        "text = TextBlob(\"I want to be remembered not only as an entertainer but as a person who cared a lot, and I gave the best that I could. I tried to be the best role model that I possibly could.\")"
      ],
      "metadata": {
        "id": "tZsby4_YB26J"
      },
      "execution_count": 14,
      "outputs": []
    },
    {
      "cell_type": "code",
      "source": [
        "import nltk\n",
        "nltk.download('punkt')"
      ],
      "metadata": {
        "colab": {
          "base_uri": "https://localhost:8080/"
        },
        "id": "R2q-rR7YCvGe",
        "outputId": "4869eb34-a5d8-4d65-a897-c149584f2793"
      },
      "execution_count": 17,
      "outputs": [
        {
          "output_type": "stream",
          "name": "stderr",
          "text": [
            "[nltk_data] Downloading package punkt to /root/nltk_data...\n",
            "[nltk_data]   Unzipping tokenizers/punkt.zip.\n"
          ]
        },
        {
          "output_type": "execute_result",
          "data": {
            "text/plain": [
              "True"
            ]
          },
          "metadata": {},
          "execution_count": 17
        }
      ]
    },
    {
      "cell_type": "markdown",
      "source": [
        "Word Tokeniser"
      ],
      "metadata": {
        "id": "HqMXmLkBC39Y"
      }
    },
    {
      "cell_type": "code",
      "source": [
        "print(text.words)"
      ],
      "metadata": {
        "colab": {
          "base_uri": "https://localhost:8080/"
        },
        "id": "SMTGcZyBCmAf",
        "outputId": "f7cdaffd-43eb-4693-c7e1-83877ce105e0"
      },
      "execution_count": 19,
      "outputs": [
        {
          "output_type": "stream",
          "name": "stdout",
          "text": [
            "['I', 'want', 'to', 'be', 'remembered', 'not', 'only', 'as', 'an', 'entertainer', 'but', 'as', 'a', 'person', 'who', 'cared', 'a', 'lot', 'and', 'I', 'gave', 'the', 'best', 'that', 'I', 'could', 'I', 'tried', 'to', 'be', 'the', 'best', 'role', 'model', 'that', 'I', 'possibly', 'could']\n"
          ]
        }
      ]
    },
    {
      "cell_type": "markdown",
      "source": [
        "Sentence Tokenizer"
      ],
      "metadata": {
        "id": "RRfQSTM5C5sd"
      }
    },
    {
      "cell_type": "code",
      "source": [
        "print(text.sentences)"
      ],
      "metadata": {
        "colab": {
          "base_uri": "https://localhost:8080/"
        },
        "id": "mqupjiphCnFW",
        "outputId": "3b8d9150-b3f5-4a38-ca86-b759d22c4ad6"
      },
      "execution_count": 20,
      "outputs": [
        {
          "output_type": "stream",
          "name": "stdout",
          "text": [
            "[Sentence(\"I want to be remembered not only as an entertainer but as a person who cared a lot, and I gave the best that I could.\"), Sentence(\"I tried to be the best role model that I possibly could.\")]\n"
          ]
        }
      ]
    },
    {
      "cell_type": "markdown",
      "source": [
        "Noun Phrases"
      ],
      "metadata": {
        "id": "omEEDpQsDOfG"
      }
    },
    {
      "cell_type": "code",
      "source": [
        "nltk.download('brown')"
      ],
      "metadata": {
        "colab": {
          "base_uri": "https://localhost:8080/"
        },
        "id": "-Qc-aKp3DVUa",
        "outputId": "d4e1236a-5530-4b07-96d8-d0f2618768b9"
      },
      "execution_count": 22,
      "outputs": [
        {
          "output_type": "stream",
          "name": "stderr",
          "text": [
            "[nltk_data] Downloading package brown to /root/nltk_data...\n",
            "[nltk_data]   Unzipping corpora/brown.zip.\n"
          ]
        },
        {
          "output_type": "execute_result",
          "data": {
            "text/plain": [
              "True"
            ]
          },
          "metadata": {},
          "execution_count": 22
        }
      ]
    },
    {
      "cell_type": "code",
      "source": [
        "print(text.noun_phrases)"
      ],
      "metadata": {
        "colab": {
          "base_uri": "https://localhost:8080/"
        },
        "id": "XydCDsiJC-oY",
        "outputId": "27f6fcde-c8a2-4478-9987-54bee5b77ddb"
      },
      "execution_count": 23,
      "outputs": [
        {
          "output_type": "stream",
          "name": "stdout",
          "text": [
            "['role model']\n"
          ]
        }
      ]
    },
    {
      "cell_type": "markdown",
      "source": [
        "Lemmatization"
      ],
      "metadata": {
        "id": "IXSHk7xwKcAD"
      }
    },
    {
      "cell_type": "code",
      "source": [
        "nltk.download('wordnet')"
      ],
      "metadata": {
        "colab": {
          "base_uri": "https://localhost:8080/"
        },
        "id": "S2CxDwRfKooY",
        "outputId": "0fe5b501-08b1-4137-f218-6abe20030229"
      },
      "execution_count": 25,
      "outputs": [
        {
          "output_type": "stream",
          "name": "stderr",
          "text": [
            "[nltk_data] Downloading package wordnet to /root/nltk_data...\n"
          ]
        },
        {
          "output_type": "execute_result",
          "data": {
            "text/plain": [
              "True"
            ]
          },
          "metadata": {},
          "execution_count": 25
        }
      ]
    },
    {
      "cell_type": "code",
      "source": [
        "from textblob import Word\n",
        "w=Word('buses')\n",
        "w.lemmatize()"
      ],
      "metadata": {
        "colab": {
          "base_uri": "https://localhost:8080/",
          "height": 36
        },
        "id": "fVbDKJ9qDRii",
        "outputId": "1b1d3b37-2bd4-4c4e-86da-8dd7561a582d"
      },
      "execution_count": 26,
      "outputs": [
        {
          "output_type": "execute_result",
          "data": {
            "text/plain": [
              "'bus'"
            ],
            "application/vnd.google.colaboratory.intrinsic+json": {
              "type": "string"
            }
          },
          "metadata": {},
          "execution_count": 26
        }
      ]
    },
    {
      "cell_type": "code",
      "source": [
        "w1=Word('cricketing')\n",
        "w1.lemmatize()"
      ],
      "metadata": {
        "colab": {
          "base_uri": "https://localhost:8080/",
          "height": 36
        },
        "id": "YabhiWcIKmu2",
        "outputId": "206b7f0e-c325-4701-c4f5-c4ad07c7dbdf"
      },
      "execution_count": 27,
      "outputs": [
        {
          "output_type": "execute_result",
          "data": {
            "text/plain": [
              "'cricketing'"
            ],
            "application/vnd.google.colaboratory.intrinsic+json": {
              "type": "string"
            }
          },
          "metadata": {},
          "execution_count": 27
        }
      ]
    },
    {
      "cell_type": "code",
      "source": [
        "w1=Word('went')\n",
        "w1.lemmatize(\"v\")"
      ],
      "metadata": {
        "colab": {
          "base_uri": "https://localhost:8080/",
          "height": 36
        },
        "id": "uzNZGQ1rKxAd",
        "outputId": "4b4ee1a5-676b-47b2-d3fb-366cda5c0ab5"
      },
      "execution_count": 29,
      "outputs": [
        {
          "output_type": "execute_result",
          "data": {
            "text/plain": [
              "'go'"
            ],
            "application/vnd.google.colaboratory.intrinsic+json": {
              "type": "string"
            }
          },
          "metadata": {},
          "execution_count": 29
        }
      ]
    },
    {
      "cell_type": "markdown",
      "source": [
        "## Spell Check"
      ],
      "metadata": {
        "id": "QLNOXFjvK8WH"
      }
    },
    {
      "cell_type": "code",
      "source": [
        "sent = TextBlob(\"Secrets i have held in my hearrt are harder to hide than i tought\")\n",
        "sent.correct()"
      ],
      "metadata": {
        "colab": {
          "base_uri": "https://localhost:8080/"
        },
        "id": "cfcV45jfK2a3",
        "outputId": "da8c158d-8543-445c-bff2-05902ef13f92"
      },
      "execution_count": 34,
      "outputs": [
        {
          "output_type": "execute_result",
          "data": {
            "text/plain": [
              "TextBlob(\"Secrets i have held in my heart are harder to hide than i thought\")"
            ]
          },
          "metadata": {},
          "execution_count": 34
        }
      ]
    },
    {
      "cell_type": "markdown",
      "source": [
        "## Word frequencies"
      ],
      "metadata": {
        "id": "EeunoZFlLZ31"
      }
    },
    {
      "cell_type": "code",
      "source": [
        "betty = TextBlob(\"Betty Botter bought some butter. But she said the Butter’s bitter. If I put it in my batter, it will make my batter bitter. But a bit of better butter will make my batter better.\")\n",
        "betty.word_counts['butter']"
      ],
      "metadata": {
        "colab": {
          "base_uri": "https://localhost:8080/"
        },
        "id": "6BZsShJjLKL7",
        "outputId": "eedc78bd-4f91-4536-a6f6-423d92b6f042"
      },
      "execution_count": 47,
      "outputs": [
        {
          "output_type": "execute_result",
          "data": {
            "text/plain": [
              "3"
            ]
          },
          "metadata": {},
          "execution_count": 47
        }
      ]
    },
    {
      "cell_type": "code",
      "source": [
        "betty.words.count('BITTER', case_sensitive=False)"
      ],
      "metadata": {
        "colab": {
          "base_uri": "https://localhost:8080/"
        },
        "id": "VHGH4y-vLmJG",
        "outputId": "5a216894-ce80-4bbb-f143-44453bc2bc1e"
      },
      "execution_count": 54,
      "outputs": [
        {
          "output_type": "execute_result",
          "data": {
            "text/plain": [
              "2"
            ]
          },
          "metadata": {},
          "execution_count": 54
        }
      ]
    },
    {
      "cell_type": "markdown",
      "source": [
        "N-grams Method"
      ],
      "metadata": {
        "id": "LlQA6Ut5MnP3"
      }
    },
    {
      "cell_type": "code",
      "source": [
        "bob = TextBlob(\"How many roads should a man must walk before we can call him a man?\")\n",
        "s=bob.ngrams(n=2)\n",
        "print(s)"
      ],
      "metadata": {
        "colab": {
          "base_uri": "https://localhost:8080/"
        },
        "id": "-0is69IiMIjK",
        "outputId": "0bd94abd-a42f-4e21-d456-27b5faa9ccb2"
      },
      "execution_count": 59,
      "outputs": [
        {
          "output_type": "stream",
          "name": "stdout",
          "text": [
            "[WordList(['How', 'many']), WordList(['many', 'roads']), WordList(['roads', 'should']), WordList(['should', 'a']), WordList(['a', 'man']), WordList(['man', 'must']), WordList(['must', 'walk']), WordList(['walk', 'before']), WordList(['before', 'we']), WordList(['we', 'can']), WordList(['can', 'call']), WordList(['call', 'him']), WordList(['him', 'a']), WordList(['a', 'man'])]\n"
          ]
        }
      ]
    },
    {
      "cell_type": "code",
      "source": [
        "len(s)"
      ],
      "metadata": {
        "colab": {
          "base_uri": "https://localhost:8080/"
        },
        "id": "2Yc0PsEBMzyW",
        "outputId": "5a5f93d1-da9c-4468-d9c1-d22c4604294f"
      },
      "execution_count": 60,
      "outputs": [
        {
          "output_type": "execute_result",
          "data": {
            "text/plain": [
              "14"
            ]
          },
          "metadata": {},
          "execution_count": 60
        }
      ]
    },
    {
      "cell_type": "code",
      "source": [
        "bob = TextBlob(\"How many roads should a man must walk before we can call him a man?\")\n",
        "s=bob.ngrams(n=4)\n",
        "print(len(s))"
      ],
      "metadata": {
        "colab": {
          "base_uri": "https://localhost:8080/"
        },
        "id": "wUsFgEXMMsm6",
        "outputId": "b73c8e0f-4394-4583-db1a-968eea71cb1e"
      },
      "execution_count": 63,
      "outputs": [
        {
          "output_type": "stream",
          "name": "stdout",
          "text": [
            "12\n"
          ]
        }
      ]
    },
    {
      "cell_type": "code",
      "source": [
        "s"
      ],
      "metadata": {
        "colab": {
          "base_uri": "https://localhost:8080/"
        },
        "id": "vNA4hHJDNAdJ",
        "outputId": "6f45dc67-65b5-44c9-d175-280ca935d9fa"
      },
      "execution_count": 64,
      "outputs": [
        {
          "output_type": "execute_result",
          "data": {
            "text/plain": [
              "[WordList(['How', 'many', 'roads', 'should']),\n",
              " WordList(['many', 'roads', 'should', 'a']),\n",
              " WordList(['roads', 'should', 'a', 'man']),\n",
              " WordList(['should', 'a', 'man', 'must']),\n",
              " WordList(['a', 'man', 'must', 'walk']),\n",
              " WordList(['man', 'must', 'walk', 'before']),\n",
              " WordList(['must', 'walk', 'before', 'we']),\n",
              " WordList(['walk', 'before', 'we', 'can']),\n",
              " WordList(['before', 'we', 'can', 'call']),\n",
              " WordList(['we', 'can', 'call', 'him']),\n",
              " WordList(['can', 'call', 'him', 'a']),\n",
              " WordList(['call', 'him', 'a', 'man'])]"
            ]
          },
          "metadata": {},
          "execution_count": 64
        }
      ]
    },
    {
      "cell_type": "code",
      "source": [
        "bob = TextBlob(\"How many roads should a man must walk before we can call him a man?\")\n",
        "s=bob.ngrams(n=3)\n",
        "print(len(s))"
      ],
      "metadata": {
        "colab": {
          "base_uri": "https://localhost:8080/"
        },
        "id": "vJWwYKDgMtd-",
        "outputId": "14e22cc9-7ad7-4b96-e19b-d2fc6bf88a21"
      },
      "execution_count": 61,
      "outputs": [
        {
          "output_type": "stream",
          "name": "stdout",
          "text": [
            "13\n"
          ]
        }
      ]
    },
    {
      "cell_type": "code",
      "source": [
        "s"
      ],
      "metadata": {
        "colab": {
          "base_uri": "https://localhost:8080/"
        },
        "id": "9YADS8f8M8D3",
        "outputId": "72603d0c-4688-4918-80d6-61188e3384f7"
      },
      "execution_count": 62,
      "outputs": [
        {
          "output_type": "execute_result",
          "data": {
            "text/plain": [
              "[WordList(['How', 'many', 'roads']),\n",
              " WordList(['many', 'roads', 'should']),\n",
              " WordList(['roads', 'should', 'a']),\n",
              " WordList(['should', 'a', 'man']),\n",
              " WordList(['a', 'man', 'must']),\n",
              " WordList(['man', 'must', 'walk']),\n",
              " WordList(['must', 'walk', 'before']),\n",
              " WordList(['walk', 'before', 'we']),\n",
              " WordList(['before', 'we', 'can']),\n",
              " WordList(['we', 'can', 'call']),\n",
              " WordList(['can', 'call', 'him']),\n",
              " WordList(['call', 'him', 'a']),\n",
              " WordList(['him', 'a', 'man'])]"
            ]
          },
          "metadata": {},
          "execution_count": 62
        }
      ]
    },
    {
      "cell_type": "markdown",
      "source": [
        "## Language Translation"
      ],
      "metadata": {
        "id": "Af4XZCTYPrV3"
      }
    },
    {
      "cell_type": "code",
      "source": [
        "blob = TextBlob(\"Bright sunday morning for amazing hours of cricketing action from the MCG\")\n",
        "blob.translate(from_lang='en', to='fr')"
      ],
      "metadata": {
        "colab": {
          "base_uri": "https://localhost:8080/"
        },
        "id": "le7vSFwdM9Wi",
        "outputId": "d931381e-2043-47a8-9f7d-67de0c88cdb3"
      },
      "execution_count": 69,
      "outputs": [
        {
          "output_type": "execute_result",
          "data": {
            "text/plain": [
              "TextBlob(\"Dimanche matin brillant pour des heures incroyables d'action de cricket du MCG\")"
            ]
          },
          "metadata": {},
          "execution_count": 69
        }
      ]
    },
    {
      "cell_type": "code",
      "source": [
        "blob=TextBlob(\"Dimanche matin brillant pour des heures incroyables d'action de cricket du MCG\")\n",
        "blob.translate(from_lang='fr', to='en')"
      ],
      "metadata": {
        "colab": {
          "base_uri": "https://localhost:8080/"
        },
        "id": "B93NEqMtQRan",
        "outputId": "44ec9573-32cc-4674-e835-6aaa51d44758"
      },
      "execution_count": 70,
      "outputs": [
        {
          "output_type": "execute_result",
          "data": {
            "text/plain": [
              "TextBlob(\"Brilliant Sunday morning for incredible hours of MCG cricket action\")"
            ]
          },
          "metadata": {},
          "execution_count": 70
        }
      ]
    },
    {
      "cell_type": "markdown",
      "source": [
        "WordLists"
      ],
      "metadata": {
        "id": "9c6sSNwmSwBE"
      }
    },
    {
      "cell_type": "code",
      "source": [
        "animals = TextBlob('cat dog criket death')\n",
        "animals.words"
      ],
      "metadata": {
        "colab": {
          "base_uri": "https://localhost:8080/"
        },
        "id": "qwWCp3-RSvdU",
        "outputId": "01a26e22-131d-497e-9f3e-af802e212dc0"
      },
      "execution_count": 71,
      "outputs": [
        {
          "output_type": "execute_result",
          "data": {
            "text/plain": [
              "WordList(['cat', 'dog', 'criket', 'death'])"
            ]
          },
          "metadata": {},
          "execution_count": 71
        }
      ]
    },
    {
      "cell_type": "code",
      "source": [
        "animals.words.pluralize()"
      ],
      "metadata": {
        "colab": {
          "base_uri": "https://localhost:8080/"
        },
        "id": "z1Q3wAfIS1Jk",
        "outputId": "161fd2b7-b1a6-4985-b586-a1925a2051f0"
      },
      "execution_count": 74,
      "outputs": [
        {
          "output_type": "execute_result",
          "data": {
            "text/plain": [
              "WordList(['cats', 'dogs', 'crikets', 'deaths'])"
            ]
          },
          "metadata": {},
          "execution_count": 74
        }
      ]
    },
    {
      "cell_type": "markdown",
      "source": [
        "Spell Checks"
      ],
      "metadata": {
        "id": "7iGYReAiS742"
      }
    },
    {
      "cell_type": "code",
      "source": [
        "w= Word('cunting')\n",
        "w.spellcheck()"
      ],
      "metadata": {
        "colab": {
          "base_uri": "https://localhost:8080/"
        },
        "id": "Hoqxim_hS3Ei",
        "outputId": "a05b20a5-0b96-4ce0-fde9-ae2d0cc5d7ed"
      },
      "execution_count": 75,
      "outputs": [
        {
          "output_type": "execute_result",
          "data": {
            "text/plain": [
              "[('hunting', 0.3153153153153153),\n",
              " ('cutting', 0.3063063063063063),\n",
              " ('cunning', 0.23423423423423423),\n",
              " ('counting', 0.13513513513513514),\n",
              " ('bunting', 0.009009009009009009)]"
            ]
          },
          "metadata": {},
          "execution_count": 75
        }
      ]
    },
    {
      "cell_type": "markdown",
      "source": [
        "Text Classification System"
      ],
      "metadata": {
        "id": "i_jONkAyTNme"
      }
    },
    {
      "cell_type": "code",
      "source": [
        "train = [\n",
        "    ('I love this sandwich.','pos'),\n",
        "    ('I hate the cricket match','neg'),\n",
        "    ('I did not like the pizza','neg'),\n",
        "    ('i am absolutely satisfied with the stipend','pos'),\n",
        "    ('my boss is horrible.', 'neg'),\n",
        "    (\"what an awesome view\", 'pos'),\n",
        "    ('this is my best work.', 'pos'),\n",
        "    ('I am tired of this stuff.', 'neg'),\n",
        "    ('he is my sworn enemy!', 'neg'),\n",
        "    ('I feel very good about these beers.', 'pos')\n",
        "]"
      ],
      "metadata": {
        "id": "gI5pBovvTE3E"
      },
      "execution_count": 76,
      "outputs": []
    },
    {
      "cell_type": "code",
      "source": [
        "test=[\n",
        "    ('the beer was good.', 'pos'),\n",
        "    ('I do not enjoy my job', 'neg'),\n",
        "    (\"I ain't feeling dandy today.\", 'neg'),\n",
        "    (\"I feel amazing!\", 'pos'),\n",
        "    ('Gary is a friend of mine.', 'pos'),\n",
        "    (\"I can't believe I'm doing this.\", 'neg')\n",
        "]"
      ],
      "metadata": {
        "id": "9xdSAcGtUOQc"
      },
      "execution_count": 88,
      "outputs": []
    },
    {
      "cell_type": "code",
      "source": [
        "from textblob.classifiers import NaiveBayesClassifier\n",
        "cl = NaiveBayesClassifier(train)"
      ],
      "metadata": {
        "id": "GTZY1DVhVZJo"
      },
      "execution_count": 89,
      "outputs": []
    },
    {
      "cell_type": "code",
      "source": [
        "cl.classify('this is a piece of bull shit!!!')"
      ],
      "metadata": {
        "colab": {
          "base_uri": "https://localhost:8080/",
          "height": 36
        },
        "id": "a5IiXkIbVkVD",
        "outputId": "07a5200b-207d-403f-d065-409a377f5c3a"
      },
      "execution_count": 90,
      "outputs": [
        {
          "output_type": "execute_result",
          "data": {
            "text/plain": [
              "'neg'"
            ],
            "application/vnd.google.colaboratory.intrinsic+json": {
              "type": "string"
            }
          },
          "metadata": {},
          "execution_count": 90
        }
      ]
    },
    {
      "cell_type": "code",
      "source": [
        "cl.classify('this is the best worst part')"
      ],
      "metadata": {
        "colab": {
          "base_uri": "https://localhost:8080/",
          "height": 36
        },
        "id": "DACtTq9AVqJp",
        "outputId": "558afbd3-aa94-4544-ccd4-30d01ebbf9b1"
      },
      "execution_count": 91,
      "outputs": [
        {
          "output_type": "execute_result",
          "data": {
            "text/plain": [
              "'pos'"
            ],
            "application/vnd.google.colaboratory.intrinsic+json": {
              "type": "string"
            }
          },
          "metadata": {},
          "execution_count": 91
        }
      ]
    },
    {
      "cell_type": "code",
      "source": [
        "cl.classify('this is the worst best part')"
      ],
      "metadata": {
        "colab": {
          "base_uri": "https://localhost:8080/",
          "height": 36
        },
        "id": "1o5yIvedVth_",
        "outputId": "32cac581-bded-493f-8f88-338685868fb8"
      },
      "execution_count": 92,
      "outputs": [
        {
          "output_type": "execute_result",
          "data": {
            "text/plain": [
              "'pos'"
            ],
            "application/vnd.google.colaboratory.intrinsic+json": {
              "type": "string"
            }
          },
          "metadata": {},
          "execution_count": 92
        }
      ]
    },
    {
      "cell_type": "code",
      "source": [
        "cl.classify('you are just another version of less talented seth rollins')"
      ],
      "metadata": {
        "colab": {
          "base_uri": "https://localhost:8080/",
          "height": 36
        },
        "id": "xROr8d1rVxT-",
        "outputId": "94a66fdb-c473-4838-91ed-879c0d9b1138"
      },
      "execution_count": 93,
      "outputs": [
        {
          "output_type": "execute_result",
          "data": {
            "text/plain": [
              "'neg'"
            ],
            "application/vnd.google.colaboratory.intrinsic+json": {
              "type": "string"
            }
          },
          "metadata": {},
          "execution_count": 93
        }
      ]
    },
    {
      "cell_type": "code",
      "source": [
        "cl.classify('too sweet woop woop')"
      ],
      "metadata": {
        "colab": {
          "base_uri": "https://localhost:8080/",
          "height": 36
        },
        "id": "aY3i-UrwV4f_",
        "outputId": "594b0702-beda-491f-903f-ba2a6e0f2b12"
      },
      "execution_count": 94,
      "outputs": [
        {
          "output_type": "execute_result",
          "data": {
            "text/plain": [
              "'pos'"
            ],
            "application/vnd.google.colaboratory.intrinsic+json": {
              "type": "string"
            }
          },
          "metadata": {},
          "execution_count": 94
        }
      ]
    },
    {
      "cell_type": "code",
      "source": [
        "cl.classify('too boring')"
      ],
      "metadata": {
        "colab": {
          "base_uri": "https://localhost:8080/",
          "height": 36
        },
        "id": "mIXRPleLV9sE",
        "outputId": "deda0deb-4e77-42c2-a2b8-4d4072763f7a"
      },
      "execution_count": 95,
      "outputs": [
        {
          "output_type": "execute_result",
          "data": {
            "text/plain": [
              "'pos'"
            ],
            "application/vnd.google.colaboratory.intrinsic+json": {
              "type": "string"
            }
          },
          "metadata": {},
          "execution_count": 95
        }
      ]
    },
    {
      "cell_type": "code",
      "source": [
        "cl.classify('this is awesome')"
      ],
      "metadata": {
        "colab": {
          "base_uri": "https://localhost:8080/",
          "height": 36
        },
        "id": "4_Rwa0cEV_6_",
        "outputId": "8cbb3e5a-2f4f-47a9-a709-d80574e5389d"
      },
      "execution_count": 96,
      "outputs": [
        {
          "output_type": "execute_result",
          "data": {
            "text/plain": [
              "'pos'"
            ],
            "application/vnd.google.colaboratory.intrinsic+json": {
              "type": "string"
            }
          },
          "metadata": {},
          "execution_count": 96
        }
      ]
    },
    {
      "cell_type": "code",
      "source": [
        "blob = TextBlob(\"The beer is good. But the hangover is horrible.\", classifier=cl)\n",
        "blob.classify()"
      ],
      "metadata": {
        "colab": {
          "base_uri": "https://localhost:8080/",
          "height": 36
        },
        "id": "jo3OhikEWEAW",
        "outputId": "f6862b97-14e3-4ed1-86d4-02259cc1be05"
      },
      "execution_count": 97,
      "outputs": [
        {
          "output_type": "execute_result",
          "data": {
            "text/plain": [
              "'neg'"
            ],
            "application/vnd.google.colaboratory.intrinsic+json": {
              "type": "string"
            }
          },
          "metadata": {},
          "execution_count": 97
        }
      ]
    },
    {
      "cell_type": "code",
      "source": [
        "for s in blob.sentences:\n",
        "  print(s)\n",
        "  print(s.classify())"
      ],
      "metadata": {
        "colab": {
          "base_uri": "https://localhost:8080/"
        },
        "id": "2mAt3x_yWOxp",
        "outputId": "c265da4f-4f3a-4a88-be84-055ff8425a26"
      },
      "execution_count": 98,
      "outputs": [
        {
          "output_type": "stream",
          "name": "stdout",
          "text": [
            "The beer is good.\n",
            "pos\n",
            "But the hangover is horrible.\n",
            "neg\n"
          ]
        }
      ]
    },
    {
      "cell_type": "code",
      "source": [
        "cl.accuracy(test)"
      ],
      "metadata": {
        "colab": {
          "base_uri": "https://localhost:8080/"
        },
        "id": "Vr3PequeWXY4",
        "outputId": "90d83a80-d859-4355-ac8a-2d9f88844d2a"
      },
      "execution_count": 102,
      "outputs": [
        {
          "output_type": "execute_result",
          "data": {
            "text/plain": [
              "1.0"
            ]
          },
          "metadata": {},
          "execution_count": 102
        }
      ]
    },
    {
      "cell_type": "code",
      "source": [
        "new_data = [('She is my best friend.', 'pos'),\n",
        "           (\"I'm happy to have a new friend.\", 'pos'),(\"Stay thirsty, my friend.\", 'pos'),\n",
        "            (\"He ain't from around here.\", 'neg')]\n",
        "cl.update(new_data)\n",
        "\n",
        "#cl.accuracy(test)\n",
        "#1.0"
      ],
      "metadata": {
        "colab": {
          "base_uri": "https://localhost:8080/"
        },
        "id": "Rrlt-fhyWcke",
        "outputId": "1f243071-3039-47d4-979d-2f110b79c063"
      },
      "execution_count": 100,
      "outputs": [
        {
          "output_type": "execute_result",
          "data": {
            "text/plain": [
              "True"
            ]
          },
          "metadata": {},
          "execution_count": 100
        }
      ]
    },
    {
      "cell_type": "code",
      "source": [
        "cl.accuracy(test)"
      ],
      "metadata": {
        "colab": {
          "base_uri": "https://localhost:8080/"
        },
        "id": "oGvPMbB0W4ca",
        "outputId": "4484ceb4-fa73-4b76-9276-3c81dd358735"
      },
      "execution_count": 101,
      "outputs": [
        {
          "output_type": "execute_result",
          "data": {
            "text/plain": [
              "1.0"
            ]
          },
          "metadata": {},
          "execution_count": 101
        }
      ]
    },
    {
      "cell_type": "code",
      "source": [],
      "metadata": {
        "id": "uYR5bJzIW6i1"
      },
      "execution_count": null,
      "outputs": []
    }
  ]
}