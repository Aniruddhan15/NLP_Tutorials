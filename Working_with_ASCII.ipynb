{
  "nbformat": 4,
  "nbformat_minor": 0,
  "metadata": {
    "colab": {
      "provenance": []
    },
    "kernelspec": {
      "name": "python3",
      "display_name": "Python 3"
    },
    "language_info": {
      "name": "python"
    }
  },
  "cells": [
    {
      "cell_type": "code",
      "execution_count": null,
      "metadata": {
        "colab": {
          "base_uri": "https://localhost:8080/"
        },
        "id": "qU12msUp1zYU",
        "outputId": "229beb12-1934-43fc-ee8e-a69b8189e035"
      },
      "outputs": [
        {
          "output_type": "stream",
          "name": "stdout",
          "text": [
            "Requirement already satisfied: nltk in /usr/local/lib/python3.10/dist-packages (3.8.1)\n",
            "Requirement already satisfied: click in /usr/local/lib/python3.10/dist-packages (from nltk) (8.1.7)\n",
            "Requirement already satisfied: joblib in /usr/local/lib/python3.10/dist-packages (from nltk) (1.3.2)\n",
            "Requirement already satisfied: regex>=2021.8.3 in /usr/local/lib/python3.10/dist-packages (from nltk) (2023.6.3)\n",
            "Requirement already satisfied: tqdm in /usr/local/lib/python3.10/dist-packages (from nltk) (4.66.1)\n"
          ]
        }
      ],
      "source": [
        "!pip install nltk"
      ]
    },
    {
      "cell_type": "code",
      "source": [
        "import nltk"
      ],
      "metadata": {
        "id": "Swbcsg_w1_1r"
      },
      "execution_count": 5,
      "outputs": []
    },
    {
      "cell_type": "code",
      "source": [
        "txt=\"HELLO GEEKS. We're hoping you guys are doing well\"\n",
        "txt\n"
      ],
      "metadata": {
        "colab": {
          "base_uri": "https://localhost:8080/",
          "height": 36
        },
        "id": "qrD9p4Z42BzH",
        "outputId": "20ca6387-7fe6-4b40-ee02-2364b49b32b1"
      },
      "execution_count": 6,
      "outputs": [
        {
          "output_type": "execute_result",
          "data": {
            "text/plain": [
              "\"HELLO GEEKS. We're hoping you guys are doing well\""
            ],
            "application/vnd.google.colaboratory.intrinsic+json": {
              "type": "string"
            }
          },
          "metadata": {},
          "execution_count": 6
        }
      ]
    },
    {
      "cell_type": "markdown",
      "source": [
        "How many words and sentences"
      ],
      "metadata": {
        "id": "bj6Ujjw62P9I"
      }
    },
    {
      "cell_type": "code",
      "source": [
        "txt.split('.')"
      ],
      "metadata": {
        "colab": {
          "base_uri": "https://localhost:8080/"
        },
        "id": "LFHvaAm42Olg",
        "outputId": "72212037-9d86-4436-ef5b-0e883c713b16"
      },
      "execution_count": 7,
      "outputs": [
        {
          "output_type": "execute_result",
          "data": {
            "text/plain": [
              "['HELLO GEEKS', \" We're hoping you guys are doing well\"]"
            ]
          },
          "metadata": {},
          "execution_count": 7
        }
      ]
    },
    {
      "cell_type": "code",
      "source": [
        "txt.split(' ')"
      ],
      "metadata": {
        "colab": {
          "base_uri": "https://localhost:8080/"
        },
        "id": "05L7gidj2r9M",
        "outputId": "08b2ca42-80b5-4727-af93-db5399a6d356"
      },
      "execution_count": 8,
      "outputs": [
        {
          "output_type": "execute_result",
          "data": {
            "text/plain": [
              "['HELLO', 'GEEKS.', \"We're\", 'hoping', 'you', 'guys', 'are', 'doing', 'well']"
            ]
          },
          "metadata": {},
          "execution_count": 8
        }
      ]
    },
    {
      "cell_type": "code",
      "source": [
        "len(txt.split(' '))"
      ],
      "metadata": {
        "colab": {
          "base_uri": "https://localhost:8080/"
        },
        "id": "Kc9MwT7A21Rp",
        "outputId": "2aba7143-677f-4c2e-e818-f5345f53aa55"
      },
      "execution_count": 9,
      "outputs": [
        {
          "output_type": "execute_result",
          "data": {
            "text/plain": [
              "9"
            ]
          },
          "metadata": {},
          "execution_count": 9
        }
      ]
    },
    {
      "cell_type": "markdown",
      "source": [
        "NLTK TOKENISER"
      ],
      "metadata": {
        "id": "aBa1IXUa2_oS"
      }
    },
    {
      "cell_type": "code",
      "source": [
        "import nltk\n",
        "nltk.download('punkt')"
      ],
      "metadata": {
        "colab": {
          "base_uri": "https://localhost:8080/"
        },
        "id": "HhohO3U53rXz",
        "outputId": "b22cf889-e9cc-4046-db5c-005e2a0704ef"
      },
      "execution_count": 10,
      "outputs": [
        {
          "output_type": "stream",
          "name": "stderr",
          "text": [
            "[nltk_data] Downloading package punkt to /root/nltk_data...\n",
            "[nltk_data]   Unzipping tokenizers/punkt.zip.\n"
          ]
        },
        {
          "output_type": "execute_result",
          "data": {
            "text/plain": [
              "True"
            ]
          },
          "metadata": {},
          "execution_count": 10
        }
      ]
    },
    {
      "cell_type": "code",
      "source": [
        "from nltk.tokenize import word_tokenize,sent_tokenize\n",
        "word_tokenize(txt)"
      ],
      "metadata": {
        "colab": {
          "base_uri": "https://localhost:8080/"
        },
        "id": "tdSlFq_g2-Mc",
        "outputId": "382ed0f0-7866-4ea7-b14e-bcd4d063e291"
      },
      "execution_count": 11,
      "outputs": [
        {
          "output_type": "execute_result",
          "data": {
            "text/plain": [
              "['HELLO',\n",
              " 'GEEKS',\n",
              " '.',\n",
              " 'We',\n",
              " \"'re\",\n",
              " 'hoping',\n",
              " 'you',\n",
              " 'guys',\n",
              " 'are',\n",
              " 'doing',\n",
              " 'well']"
            ]
          },
          "metadata": {},
          "execution_count": 11
        }
      ]
    },
    {
      "cell_type": "code",
      "source": [
        "s=sent_tokenize(txt)\n",
        "s"
      ],
      "metadata": {
        "colab": {
          "base_uri": "https://localhost:8080/"
        },
        "id": "E3UZA0Zx3UWu",
        "outputId": "6e0b47e9-3711-472a-84fa-0600e637d632"
      },
      "execution_count": 12,
      "outputs": [
        {
          "output_type": "execute_result",
          "data": {
            "text/plain": [
              "['HELLO GEEKS.', \"We're hoping you guys are doing well\"]"
            ]
          },
          "metadata": {},
          "execution_count": 12
        }
      ]
    },
    {
      "cell_type": "code",
      "source": [
        "for w in word_tokenize(txt):\n",
        "  print(w)"
      ],
      "metadata": {
        "colab": {
          "base_uri": "https://localhost:8080/"
        },
        "id": "2kupT5bh3uJZ",
        "outputId": "f6411468-4622-4ebb-a212-3469b8213aa0"
      },
      "execution_count": 13,
      "outputs": [
        {
          "output_type": "stream",
          "name": "stdout",
          "text": [
            "HELLO\n",
            "GEEKS\n",
            ".\n",
            "We\n",
            "'re\n",
            "hoping\n",
            "you\n",
            "guys\n",
            "are\n",
            "doing\n",
            "well\n"
          ]
        }
      ]
    },
    {
      "cell_type": "code",
      "source": [
        "for w in word_tokenize(txt):\n",
        "  if(w!='.'):\n",
        "    print(w)"
      ],
      "metadata": {
        "colab": {
          "base_uri": "https://localhost:8080/"
        },
        "id": "S_yUlnrS38S5",
        "outputId": "b0598569-0ac4-4ea6-c593-7221508c8d6b"
      },
      "execution_count": 14,
      "outputs": [
        {
          "output_type": "stream",
          "name": "stdout",
          "text": [
            "HELLO\n",
            "GEEKS\n",
            "We\n",
            "'re\n",
            "hoping\n",
            "you\n",
            "guys\n",
            "are\n",
            "doing\n",
            "well\n"
          ]
        }
      ]
    },
    {
      "cell_type": "markdown",
      "source": [
        "Stemming and Lemmatisation"
      ],
      "metadata": {
        "id": "Z9MQ1jhR4P5Z"
      }
    },
    {
      "cell_type": "markdown",
      "source": [
        "Stemming: reduce vocab size by just counting unique words"
      ],
      "metadata": {
        "id": "40385G5p4UXw"
      }
    },
    {
      "cell_type": "code",
      "source": [
        "nltk.download('wordnet')\n",
        "nltk.download('omw-1.4')"
      ],
      "metadata": {
        "colab": {
          "base_uri": "https://localhost:8080/"
        },
        "id": "ltSK4k7-4F4w",
        "outputId": "72420ee1-37c5-4985-dcc5-9622eb1c39bc"
      },
      "execution_count": 15,
      "outputs": [
        {
          "output_type": "stream",
          "name": "stderr",
          "text": [
            "[nltk_data] Downloading package wordnet to /root/nltk_data...\n",
            "[nltk_data] Downloading package omw-1.4 to /root/nltk_data...\n"
          ]
        },
        {
          "output_type": "execute_result",
          "data": {
            "text/plain": [
              "True"
            ]
          },
          "metadata": {},
          "execution_count": 15
        }
      ]
    },
    {
      "cell_type": "code",
      "source": [
        "from nltk.stem import WordNetLemmatizer,PorterStemmer"
      ],
      "metadata": {
        "id": "g38UVlgr4fGD"
      },
      "execution_count": 16,
      "outputs": []
    },
    {
      "cell_type": "code",
      "source": [
        "stem=PorterStemmer()\n",
        "lem=WordNetLemmatizer()"
      ],
      "metadata": {
        "id": "ea3APeOn4mo6"
      },
      "execution_count": 17,
      "outputs": []
    },
    {
      "cell_type": "markdown",
      "source": [
        "#Lemmatisation"
      ],
      "metadata": {
        "id": "ZFMxdN3v45km"
      }
    },
    {
      "cell_type": "code",
      "source": [
        "print(lem.lemmatize('changing'))"
      ],
      "metadata": {
        "colab": {
          "base_uri": "https://localhost:8080/"
        },
        "id": "82KBXLOY4svq",
        "outputId": "21858d05-0af1-4c56-ccf6-72e1cee73ee0"
      },
      "execution_count": 18,
      "outputs": [
        {
          "output_type": "stream",
          "name": "stdout",
          "text": [
            "changing\n"
          ]
        }
      ]
    },
    {
      "cell_type": "code",
      "source": [
        "print(lem.lemmatize('changer'))"
      ],
      "metadata": {
        "colab": {
          "base_uri": "https://localhost:8080/"
        },
        "id": "Ck7Ys0qq4_lr",
        "outputId": "728ff1d2-81be-4fb8-8863-2969419bbec1"
      },
      "execution_count": 19,
      "outputs": [
        {
          "output_type": "stream",
          "name": "stdout",
          "text": [
            "changer\n"
          ]
        }
      ]
    },
    {
      "cell_type": "markdown",
      "source": [
        "#Stemming"
      ],
      "metadata": {
        "id": "cP0cGi915MDC"
      }
    },
    {
      "cell_type": "code",
      "source": [
        "print(stem.stem('change'))\n",
        "print(stem.stem('changer'))\n",
        "print(stem.stem('changing'))"
      ],
      "metadata": {
        "colab": {
          "base_uri": "https://localhost:8080/"
        },
        "id": "H3MBWerX5Kto",
        "outputId": "8fc38ed7-afb6-4e91-bf05-e8ee13c19b01"
      },
      "execution_count": 20,
      "outputs": [
        {
          "output_type": "stream",
          "name": "stdout",
          "text": [
            "chang\n",
            "changer\n",
            "chang\n"
          ]
        }
      ]
    },
    {
      "cell_type": "markdown",
      "source": [
        "#StopWords Removal"
      ],
      "metadata": {
        "id": "ys9USC1L5iIT"
      }
    },
    {
      "cell_type": "code",
      "source": [
        "nltk.download('stopwords')"
      ],
      "metadata": {
        "colab": {
          "base_uri": "https://localhost:8080/"
        },
        "id": "Z-ZS2Y3w5wSN",
        "outputId": "d0240ef9-7e6a-4a40-ea1c-640877e0186a"
      },
      "execution_count": 21,
      "outputs": [
        {
          "output_type": "stream",
          "name": "stderr",
          "text": [
            "[nltk_data] Downloading package stopwords to /root/nltk_data...\n",
            "[nltk_data]   Unzipping corpora/stopwords.zip.\n"
          ]
        },
        {
          "output_type": "execute_result",
          "data": {
            "text/plain": [
              "True"
            ]
          },
          "metadata": {},
          "execution_count": 21
        }
      ]
    },
    {
      "cell_type": "code",
      "source": [
        "txt='This is not a great time to talk'"
      ],
      "metadata": {
        "id": "_RXqQ-gB5DKS"
      },
      "execution_count": 22,
      "outputs": []
    },
    {
      "cell_type": "code",
      "source": [
        "txt"
      ],
      "metadata": {
        "colab": {
          "base_uri": "https://localhost:8080/",
          "height": 36
        },
        "id": "MCvA1Em45qvz",
        "outputId": "d3607570-eda1-4e09-8579-a44fc1312c9d"
      },
      "execution_count": 23,
      "outputs": [
        {
          "output_type": "execute_result",
          "data": {
            "text/plain": [
              "'This is not a great time to talk'"
            ],
            "application/vnd.google.colaboratory.intrinsic+json": {
              "type": "string"
            }
          },
          "metadata": {},
          "execution_count": 23
        }
      ]
    },
    {
      "cell_type": "code",
      "source": [
        "from nltk.corpus import stopwords"
      ],
      "metadata": {
        "id": "ZcnOiSg65rPQ"
      },
      "execution_count": 24,
      "outputs": []
    },
    {
      "cell_type": "code",
      "source": [
        "stopword=stopwords.words('english')"
      ],
      "metadata": {
        "id": "nLYYNHad52iA"
      },
      "execution_count": 25,
      "outputs": []
    },
    {
      "cell_type": "code",
      "source": [
        "#179 stopwords"
      ],
      "metadata": {
        "id": "sqm57sxb56Ny"
      },
      "execution_count": 26,
      "outputs": []
    },
    {
      "cell_type": "code",
      "source": [
        "from nltk.tokenize import word_tokenize"
      ],
      "metadata": {
        "id": "nkKPHiMx6HYG"
      },
      "execution_count": 27,
      "outputs": []
    },
    {
      "cell_type": "code",
      "source": [
        "txt=word_tokenize(txt)"
      ],
      "metadata": {
        "id": "mX2xYJXq6SHj"
      },
      "execution_count": 28,
      "outputs": []
    },
    {
      "cell_type": "code",
      "source": [
        "for w in txt:\n",
        "  print(w,w.lower() in stopword)"
      ],
      "metadata": {
        "colab": {
          "base_uri": "https://localhost:8080/"
        },
        "id": "y2E5VCFI6XZ-",
        "outputId": "332fed9e-4e08-4b3b-88f7-56bafe16f5d6"
      },
      "execution_count": 29,
      "outputs": [
        {
          "output_type": "stream",
          "name": "stdout",
          "text": [
            "This True\n",
            "is True\n",
            "not True\n",
            "a True\n",
            "great False\n",
            "time False\n",
            "to True\n",
            "talk False\n"
          ]
        }
      ]
    },
    {
      "cell_type": "code",
      "source": [
        "for w in txt:\n",
        "  if((w.lower() not in stopword) and len(w)>3):\n",
        "    print(w)"
      ],
      "metadata": {
        "colab": {
          "base_uri": "https://localhost:8080/"
        },
        "id": "4mxfHMoa6aeG",
        "outputId": "169123b2-6a40-48bc-9956-932ff4b90693"
      },
      "execution_count": 30,
      "outputs": [
        {
          "output_type": "stream",
          "name": "stdout",
          "text": [
            "great\n",
            "time\n",
            "talk\n"
          ]
        }
      ]
    },
    {
      "cell_type": "markdown",
      "source": [
        "# CORPUS"
      ],
      "metadata": {
        "id": "lwhIdyNw8KJS"
      }
    },
    {
      "cell_type": "code",
      "source": [
        "corpus = \"India, officially the Republic of India (ISO: Bhārat Gaṇarājya),[21] is a country in South Asia. It is the seventh-largest country by area; the most populous country as of June 2023;[22][23] and from the time of its independence in 1947, the world's most populous democracy.[24][25][26] Bounded by the Indian Ocean on the south, the Arabian Sea on the southwest, and the Bay of Bengal on the southeast, it shares land borders with Pakistan to the west;[j] China, Nepal, and Bhutan to the north; and Bangladesh and Myanmar to the east. In the Indian Ocean, India is in the vicinity of Sri Lanka and the Maldives; its Andaman and Nicobar Islands share a maritime border with Thailand, Myanmar, and Indonesia.\""
      ],
      "metadata": {
        "id": "9y2QVG-s62t6"
      },
      "execution_count": 31,
      "outputs": []
    },
    {
      "cell_type": "code",
      "source": [
        "corpus"
      ],
      "metadata": {
        "colab": {
          "base_uri": "https://localhost:8080/",
          "height": 175
        },
        "id": "S1vWWsza8Fwf",
        "outputId": "b918841e-dab3-4b0e-951b-34905e3b566f"
      },
      "execution_count": 32,
      "outputs": [
        {
          "output_type": "execute_result",
          "data": {
            "text/plain": [
              "\"India, officially the Republic of India (ISO: Bhārat Gaṇarājya),[21] is a country in South Asia. It is the seventh-largest country by area; the most populous country as of June 2023;[22][23] and from the time of its independence in 1947, the world's most populous democracy.[24][25][26] Bounded by the Indian Ocean on the south, the Arabian Sea on the southwest, and the Bay of Bengal on the southeast, it shares land borders with Pakistan to the west;[j] China, Nepal, and Bhutan to the north; and Bangladesh and Myanmar to the east. In the Indian Ocean, India is in the vicinity of Sri Lanka and the Maldives; its Andaman and Nicobar Islands share a maritime border with Thailand, Myanmar, and Indonesia.\""
            ],
            "application/vnd.google.colaboratory.intrinsic+json": {
              "type": "string"
            }
          },
          "metadata": {},
          "execution_count": 32
        }
      ]
    },
    {
      "cell_type": "code",
      "source": [
        "word_tokenize(corpus)"
      ],
      "metadata": {
        "colab": {
          "base_uri": "https://localhost:8080/"
        },
        "id": "_n2sGzQA8IbU",
        "outputId": "d2647937-7350-42de-8119-4a4445921632"
      },
      "execution_count": 33,
      "outputs": [
        {
          "output_type": "execute_result",
          "data": {
            "text/plain": [
              "['India',\n",
              " ',',\n",
              " 'officially',\n",
              " 'the',\n",
              " 'Republic',\n",
              " 'of',\n",
              " 'India',\n",
              " '(',\n",
              " 'ISO',\n",
              " ':',\n",
              " 'Bhārat',\n",
              " 'Gaṇarājya',\n",
              " ')',\n",
              " ',',\n",
              " '[',\n",
              " '21',\n",
              " ']',\n",
              " 'is',\n",
              " 'a',\n",
              " 'country',\n",
              " 'in',\n",
              " 'South',\n",
              " 'Asia',\n",
              " '.',\n",
              " 'It',\n",
              " 'is',\n",
              " 'the',\n",
              " 'seventh-largest',\n",
              " 'country',\n",
              " 'by',\n",
              " 'area',\n",
              " ';',\n",
              " 'the',\n",
              " 'most',\n",
              " 'populous',\n",
              " 'country',\n",
              " 'as',\n",
              " 'of',\n",
              " 'June',\n",
              " '2023',\n",
              " ';',\n",
              " '[',\n",
              " '22',\n",
              " ']',\n",
              " '[',\n",
              " '23',\n",
              " ']',\n",
              " 'and',\n",
              " 'from',\n",
              " 'the',\n",
              " 'time',\n",
              " 'of',\n",
              " 'its',\n",
              " 'independence',\n",
              " 'in',\n",
              " '1947',\n",
              " ',',\n",
              " 'the',\n",
              " 'world',\n",
              " \"'s\",\n",
              " 'most',\n",
              " 'populous',\n",
              " 'democracy',\n",
              " '.',\n",
              " '[',\n",
              " '24',\n",
              " ']',\n",
              " '[',\n",
              " '25',\n",
              " ']',\n",
              " '[',\n",
              " '26',\n",
              " ']',\n",
              " 'Bounded',\n",
              " 'by',\n",
              " 'the',\n",
              " 'Indian',\n",
              " 'Ocean',\n",
              " 'on',\n",
              " 'the',\n",
              " 'south',\n",
              " ',',\n",
              " 'the',\n",
              " 'Arabian',\n",
              " 'Sea',\n",
              " 'on',\n",
              " 'the',\n",
              " 'southwest',\n",
              " ',',\n",
              " 'and',\n",
              " 'the',\n",
              " 'Bay',\n",
              " 'of',\n",
              " 'Bengal',\n",
              " 'on',\n",
              " 'the',\n",
              " 'southeast',\n",
              " ',',\n",
              " 'it',\n",
              " 'shares',\n",
              " 'land',\n",
              " 'borders',\n",
              " 'with',\n",
              " 'Pakistan',\n",
              " 'to',\n",
              " 'the',\n",
              " 'west',\n",
              " ';',\n",
              " '[',\n",
              " 'j',\n",
              " ']',\n",
              " 'China',\n",
              " ',',\n",
              " 'Nepal',\n",
              " ',',\n",
              " 'and',\n",
              " 'Bhutan',\n",
              " 'to',\n",
              " 'the',\n",
              " 'north',\n",
              " ';',\n",
              " 'and',\n",
              " 'Bangladesh',\n",
              " 'and',\n",
              " 'Myanmar',\n",
              " 'to',\n",
              " 'the',\n",
              " 'east',\n",
              " '.',\n",
              " 'In',\n",
              " 'the',\n",
              " 'Indian',\n",
              " 'Ocean',\n",
              " ',',\n",
              " 'India',\n",
              " 'is',\n",
              " 'in',\n",
              " 'the',\n",
              " 'vicinity',\n",
              " 'of',\n",
              " 'Sri',\n",
              " 'Lanka',\n",
              " 'and',\n",
              " 'the',\n",
              " 'Maldives',\n",
              " ';',\n",
              " 'its',\n",
              " 'Andaman',\n",
              " 'and',\n",
              " 'Nicobar',\n",
              " 'Islands',\n",
              " 'share',\n",
              " 'a',\n",
              " 'maritime',\n",
              " 'border',\n",
              " 'with',\n",
              " 'Thailand',\n",
              " ',',\n",
              " 'Myanmar',\n",
              " ',',\n",
              " 'and',\n",
              " 'Indonesia',\n",
              " '.']"
            ]
          },
          "metadata": {},
          "execution_count": 33
        }
      ]
    },
    {
      "cell_type": "code",
      "source": [
        "for w in word_tokenize(corpus):\n",
        "  if(w not in stopwords.words('english')):\n",
        "    print(w)"
      ],
      "metadata": {
        "colab": {
          "base_uri": "https://localhost:8080/"
        },
        "id": "5zNh7CvA8VJs",
        "outputId": "03166b03-1e59-4ed6-87c6-fef5ca5b84a9"
      },
      "execution_count": 34,
      "outputs": [
        {
          "output_type": "stream",
          "name": "stdout",
          "text": [
            "India\n",
            ",\n",
            "officially\n",
            "Republic\n",
            "India\n",
            "(\n",
            "ISO\n",
            ":\n",
            "Bhārat\n",
            "Gaṇarājya\n",
            ")\n",
            ",\n",
            "[\n",
            "21\n",
            "]\n",
            "country\n",
            "South\n",
            "Asia\n",
            ".\n",
            "It\n",
            "seventh-largest\n",
            "country\n",
            "area\n",
            ";\n",
            "populous\n",
            "country\n",
            "June\n",
            "2023\n",
            ";\n",
            "[\n",
            "22\n",
            "]\n",
            "[\n",
            "23\n",
            "]\n",
            "time\n",
            "independence\n",
            "1947\n",
            ",\n",
            "world\n",
            "'s\n",
            "populous\n",
            "democracy\n",
            ".\n",
            "[\n",
            "24\n",
            "]\n",
            "[\n",
            "25\n",
            "]\n",
            "[\n",
            "26\n",
            "]\n",
            "Bounded\n",
            "Indian\n",
            "Ocean\n",
            "south\n",
            ",\n",
            "Arabian\n",
            "Sea\n",
            "southwest\n",
            ",\n",
            "Bay\n",
            "Bengal\n",
            "southeast\n",
            ",\n",
            "shares\n",
            "land\n",
            "borders\n",
            "Pakistan\n",
            "west\n",
            ";\n",
            "[\n",
            "j\n",
            "]\n",
            "China\n",
            ",\n",
            "Nepal\n",
            ",\n",
            "Bhutan\n",
            "north\n",
            ";\n",
            "Bangladesh\n",
            "Myanmar\n",
            "east\n",
            ".\n",
            "In\n",
            "Indian\n",
            "Ocean\n",
            ",\n",
            "India\n",
            "vicinity\n",
            "Sri\n",
            "Lanka\n",
            "Maldives\n",
            ";\n",
            "Andaman\n",
            "Nicobar\n",
            "Islands\n",
            "share\n",
            "maritime\n",
            "border\n",
            "Thailand\n",
            ",\n",
            "Myanmar\n",
            ",\n",
            "Indonesia\n",
            ".\n"
          ]
        }
      ]
    },
    {
      "cell_type": "markdown",
      "source": [
        "Remove full stops and commas"
      ],
      "metadata": {
        "id": "WG1e4724827p"
      }
    },
    {
      "cell_type": "markdown",
      "source": [
        "**Stop Words Removing Technique**"
      ],
      "metadata": {
        "id": "cc_ivuaX9IsK"
      }
    },
    {
      "cell_type": "code",
      "source": [
        "words=[]\n",
        "for w in word_tokenize(corpus):\n",
        "  if ((w not in stopwords.words('english')) and len(w)>=2):\n",
        "    words.append(w.lower())"
      ],
      "metadata": {
        "id": "KgLIscd28ylV"
      },
      "execution_count": 35,
      "outputs": []
    },
    {
      "cell_type": "code",
      "source": [
        "len(words)"
      ],
      "metadata": {
        "colab": {
          "base_uri": "https://localhost:8080/"
        },
        "id": "mi5k4UHl9nl4",
        "outputId": "ef9ce3be-fcb8-47b1-d797-58594021c04c"
      },
      "execution_count": 36,
      "outputs": [
        {
          "output_type": "execute_result",
          "data": {
            "text/plain": [
              "70"
            ]
          },
          "metadata": {},
          "execution_count": 36
        }
      ]
    },
    {
      "cell_type": "markdown",
      "source": [
        "Set is used to remove repeating words"
      ],
      "metadata": {
        "id": "pdO986kO9pbD"
      }
    },
    {
      "cell_type": "code",
      "source": [
        "len(set(words))"
      ],
      "metadata": {
        "colab": {
          "base_uri": "https://localhost:8080/"
        },
        "id": "w-3jWwyX9GpF",
        "outputId": "ba0fcb56-fad9-4410-883b-88ea8a804bb8"
      },
      "execution_count": 37,
      "outputs": [
        {
          "output_type": "execute_result",
          "data": {
            "text/plain": [
              "61"
            ]
          },
          "metadata": {},
          "execution_count": 37
        }
      ]
    },
    {
      "cell_type": "code",
      "source": [
        "len(word_tokenize(corpus))"
      ],
      "metadata": {
        "colab": {
          "base_uri": "https://localhost:8080/"
        },
        "id": "tN0lNfpu9bKl",
        "outputId": "291f1353-5083-44ef-f05a-9224a007727a"
      },
      "execution_count": 38,
      "outputs": [
        {
          "output_type": "execute_result",
          "data": {
            "text/plain": [
              "163"
            ]
          },
          "metadata": {},
          "execution_count": 38
        }
      ]
    },
    {
      "cell_type": "code",
      "source": [
        "vocab=list(set(words))"
      ],
      "metadata": {
        "id": "jRXsONBX97uP"
      },
      "execution_count": 39,
      "outputs": []
    },
    {
      "cell_type": "markdown",
      "source": [
        "#Vocab with Keras"
      ],
      "metadata": {
        "id": "0AkzKxZL-Qz-"
      }
    },
    {
      "cell_type": "code",
      "source": [
        "import tensorflow as tf"
      ],
      "metadata": {
        "id": "3p2JW1K7-B16"
      },
      "execution_count": 40,
      "outputs": []
    },
    {
      "cell_type": "code",
      "source": [
        "from tensorflow.keras.preprocessing.text import Tokenizer\n",
        "t=Tokenizer()"
      ],
      "metadata": {
        "id": "_SE_0LLr-XEk"
      },
      "execution_count": 41,
      "outputs": []
    },
    {
      "cell_type": "code",
      "source": [
        "corp=['cofee is hot','water is cold']"
      ],
      "metadata": {
        "id": "TQgXulRz-gb5"
      },
      "execution_count": 42,
      "outputs": []
    },
    {
      "cell_type": "code",
      "source": [
        "t.fit_on_texts(corp)"
      ],
      "metadata": {
        "id": "wGKzlaM1-rSO"
      },
      "execution_count": 43,
      "outputs": []
    },
    {
      "cell_type": "code",
      "source": [
        "t.word_index"
      ],
      "metadata": {
        "colab": {
          "base_uri": "https://localhost:8080/"
        },
        "id": "8SlgansU-wdM",
        "outputId": "977b9788-910e-4646-ff3a-ee86ea7b5ab2"
      },
      "execution_count": 44,
      "outputs": [
        {
          "output_type": "execute_result",
          "data": {
            "text/plain": [
              "{'is': 1, 'cofee': 2, 'hot': 3, 'water': 4, 'cold': 5}"
            ]
          },
          "metadata": {},
          "execution_count": 44
        }
      ]
    },
    {
      "cell_type": "markdown",
      "source": [
        "**Convert text to sequences**"
      ],
      "metadata": {
        "id": "pqVYTOiW-7zZ"
      }
    },
    {
      "cell_type": "code",
      "source": [
        "t.texts_to_sequences(corp)"
      ],
      "metadata": {
        "colab": {
          "base_uri": "https://localhost:8080/"
        },
        "id": "jOaRP1xt-x08",
        "outputId": "4afc04a1-0b03-48c6-813f-7b4ec291cbfb"
      },
      "execution_count": 45,
      "outputs": [
        {
          "output_type": "execute_result",
          "data": {
            "text/plain": [
              "[[2, 1, 3], [4, 1, 5]]"
            ]
          },
          "metadata": {},
          "execution_count": 45
        }
      ]
    },
    {
      "cell_type": "markdown",
      "source": [
        "#Adding OOV"
      ],
      "metadata": {
        "id": "SFn3KRzjAB7n"
      }
    },
    {
      "cell_type": "code",
      "source": [
        "t=Tokenizer(oov_token = 'black')\n",
        "corp=['cofee is hot','water is cold']\n",
        "t.fit_on_texts(corp)"
      ],
      "metadata": {
        "id": "eG4XSSf3_MKu"
      },
      "execution_count": 46,
      "outputs": []
    },
    {
      "cell_type": "code",
      "source": [
        "t.word_index"
      ],
      "metadata": {
        "colab": {
          "base_uri": "https://localhost:8080/"
        },
        "id": "kpmsPjB2_ikk",
        "outputId": "b7167ffb-f012-4129-b71f-86e9a3f68932"
      },
      "execution_count": 47,
      "outputs": [
        {
          "output_type": "execute_result",
          "data": {
            "text/plain": [
              "{'black': 1, 'is': 2, 'cofee': 3, 'hot': 4, 'water': 5, 'cold': 6}"
            ]
          },
          "metadata": {},
          "execution_count": 47
        }
      ]
    },
    {
      "cell_type": "code",
      "source": [
        "t.texts_to_sequences(['cofee is hot','water is cold'])"
      ],
      "metadata": {
        "colab": {
          "base_uri": "https://localhost:8080/"
        },
        "id": "L_DbO4g0_yY6",
        "outputId": "149f9c5b-e1dc-4c94-aade-f62e913987da"
      },
      "execution_count": 48,
      "outputs": [
        {
          "output_type": "execute_result",
          "data": {
            "text/plain": [
              "[[3, 2, 4], [5, 2, 6]]"
            ]
          },
          "metadata": {},
          "execution_count": 48
        }
      ]
    },
    {
      "cell_type": "markdown",
      "source": [
        "Limiting the number of the words"
      ],
      "metadata": {
        "id": "tOI9HdmdAoCV"
      }
    },
    {
      "cell_type": "code",
      "source": [
        "t=Tokenizer(oov_token = 'black',num_words=4)\n",
        "corp=['cofee is hot','water is cold']\n",
        "t.fit_on_texts(corp)"
      ],
      "metadata": {
        "id": "XN2VDC1T_-IG"
      },
      "execution_count": 49,
      "outputs": []
    },
    {
      "cell_type": "code",
      "source": [
        "t.word_index"
      ],
      "metadata": {
        "colab": {
          "base_uri": "https://localhost:8080/"
        },
        "id": "E9okTvAjA8Hc",
        "outputId": "8fb1e050-e6fd-4454-a4f6-6e95f6155e17"
      },
      "execution_count": 50,
      "outputs": [
        {
          "output_type": "execute_result",
          "data": {
            "text/plain": [
              "{'black': 1, 'is': 2, 'cofee': 3, 'hot': 4, 'water': 5, 'cold': 6}"
            ]
          },
          "metadata": {},
          "execution_count": 50
        }
      ]
    },
    {
      "cell_type": "code",
      "source": [
        "t.texts_to_sequences(['cofee is hot',' black water is cold'])"
      ],
      "metadata": {
        "colab": {
          "base_uri": "https://localhost:8080/"
        },
        "id": "YBfALmI0BAlR",
        "outputId": "1cc83fcd-b02d-45cd-b9b7-d10b139c0c6e"
      },
      "execution_count": 51,
      "outputs": [
        {
          "output_type": "execute_result",
          "data": {
            "text/plain": [
              "[[3, 2, 1], [1, 1, 2, 1]]"
            ]
          },
          "metadata": {},
          "execution_count": 51
        }
      ]
    },
    {
      "cell_type": "markdown",
      "source": [
        "ASCII Codes - https://www.geeksforgeeks.org/ascii-table/"
      ],
      "metadata": {
        "id": "ErZ1j-ECuVFJ"
      }
    },
    {
      "cell_type": "code",
      "source": [
        "print('A')"
      ],
      "metadata": {
        "id": "1s1RJlcDBDW8",
        "colab": {
          "base_uri": "https://localhost:8080/"
        },
        "outputId": "8d2ca4b2-341a-427f-ff73-8d5ba1701a58"
      },
      "execution_count": 52,
      "outputs": [
        {
          "output_type": "stream",
          "name": "stdout",
          "text": [
            "A\n"
          ]
        }
      ]
    },
    {
      "cell_type": "code",
      "source": [
        "ord('A')"
      ],
      "metadata": {
        "colab": {
          "base_uri": "https://localhost:8080/"
        },
        "id": "rk8fkzEQurNB",
        "outputId": "a3cf614b-0711-4c40-af6f-748a3bceacb4"
      },
      "execution_count": 53,
      "outputs": [
        {
          "output_type": "execute_result",
          "data": {
            "text/plain": [
              "65"
            ]
          },
          "metadata": {},
          "execution_count": 53
        }
      ]
    },
    {
      "cell_type": "code",
      "source": [
        "ord('a')"
      ],
      "metadata": {
        "colab": {
          "base_uri": "https://localhost:8080/"
        },
        "id": "mq4H1Qyuuttl",
        "outputId": "ccdd2b54-f316-4765-b8db-c389a122b19e"
      },
      "execution_count": 54,
      "outputs": [
        {
          "output_type": "execute_result",
          "data": {
            "text/plain": [
              "97"
            ]
          },
          "metadata": {},
          "execution_count": 54
        }
      ]
    },
    {
      "cell_type": "code",
      "source": [
        "ord('h')"
      ],
      "metadata": {
        "colab": {
          "base_uri": "https://localhost:8080/"
        },
        "id": "hdOOVmySuxIA",
        "outputId": "56d7d161-5e30-44d4-bf96-2be8c2255c7d"
      },
      "execution_count": 55,
      "outputs": [
        {
          "output_type": "execute_result",
          "data": {
            "text/plain": [
              "104"
            ]
          },
          "metadata": {},
          "execution_count": 55
        }
      ]
    },
    {
      "cell_type": "code",
      "source": [
        "ord('}')"
      ],
      "metadata": {
        "colab": {
          "base_uri": "https://localhost:8080/"
        },
        "id": "dASkuBGeuzjk",
        "outputId": "db450f38-a86a-42ee-f791-07d3767564c4"
      },
      "execution_count": 56,
      "outputs": [
        {
          "output_type": "execute_result",
          "data": {
            "text/plain": [
              "125"
            ]
          },
          "metadata": {},
          "execution_count": 56
        }
      ]
    },
    {
      "cell_type": "code",
      "source": [
        "ord('-')"
      ],
      "metadata": {
        "colab": {
          "base_uri": "https://localhost:8080/"
        },
        "id": "88Ut85x9u2B0",
        "outputId": "6a858e97-abb4-43a8-9b5c-6e5938b12a2e"
      },
      "execution_count": 57,
      "outputs": [
        {
          "output_type": "execute_result",
          "data": {
            "text/plain": [
              "45"
            ]
          },
          "metadata": {},
          "execution_count": 57
        }
      ]
    },
    {
      "cell_type": "code",
      "source": [
        "ord(')')"
      ],
      "metadata": {
        "colab": {
          "base_uri": "https://localhost:8080/"
        },
        "id": "VLlbaNGWu3fZ",
        "outputId": "218320cb-d0c5-4bd9-fbd1-954fc9e87ff6"
      },
      "execution_count": 58,
      "outputs": [
        {
          "output_type": "execute_result",
          "data": {
            "text/plain": [
              "41"
            ]
          },
          "metadata": {},
          "execution_count": 58
        }
      ]
    },
    {
      "cell_type": "code",
      "source": [
        "ord('{}') #provides error hence we give only 1 character"
      ],
      "metadata": {
        "colab": {
          "base_uri": "https://localhost:8080/",
          "height": 176
        },
        "id": "yhhVvHKRu74o",
        "outputId": "76f072ed-4a8e-4e7f-d427-b6e757904401"
      },
      "execution_count": 60,
      "outputs": [
        {
          "output_type": "error",
          "ename": "TypeError",
          "evalue": "ignored",
          "traceback": [
            "\u001b[0;31m---------------------------------------------------------------------------\u001b[0m",
            "\u001b[0;31mTypeError\u001b[0m                                 Traceback (most recent call last)",
            "\u001b[0;32m<ipython-input-60-460fe3700f22>\u001b[0m in \u001b[0;36m<cell line: 1>\u001b[0;34m()\u001b[0m\n\u001b[0;32m----> 1\u001b[0;31m \u001b[0mord\u001b[0m\u001b[0;34m(\u001b[0m\u001b[0;34m'{}'\u001b[0m\u001b[0;34m)\u001b[0m \u001b[0;31m#provides error hence we give only 1 character\u001b[0m\u001b[0;34m\u001b[0m\u001b[0;34m\u001b[0m\u001b[0m\n\u001b[0m",
            "\u001b[0;31mTypeError\u001b[0m: ord() expected a character, but string of length 2 found"
          ]
        }
      ]
    },
    {
      "cell_type": "code",
      "source": [
        "name='Aniruddhan'"
      ],
      "metadata": {
        "id": "ZZ-JnAPcu-CT"
      },
      "execution_count": 61,
      "outputs": []
    },
    {
      "cell_type": "code",
      "source": [
        "for i in name:\n",
        "  print(i,ord(i))"
      ],
      "metadata": {
        "colab": {
          "base_uri": "https://localhost:8080/"
        },
        "id": "ztceiN1yvOhJ",
        "outputId": "ff9ad35a-bda5-432b-a56b-1133016396a5"
      },
      "execution_count": 62,
      "outputs": [
        {
          "output_type": "stream",
          "name": "stdout",
          "text": [
            "A 65\n",
            "n 110\n",
            "i 105\n",
            "r 114\n",
            "u 117\n",
            "d 100\n",
            "d 100\n",
            "h 104\n",
            "a 97\n",
            "n 110\n"
          ]
        }
      ]
    },
    {
      "cell_type": "code",
      "source": [
        "print([(i,ord(i)) for i in name])"
      ],
      "metadata": {
        "colab": {
          "base_uri": "https://localhost:8080/"
        },
        "id": "M7kFFOLDvXON",
        "outputId": "da378bb9-3897-47a5-9a57-e4da3629a1a4"
      },
      "execution_count": 65,
      "outputs": [
        {
          "output_type": "stream",
          "name": "stdout",
          "text": [
            "[('A', 65), ('n', 110), ('i', 105), ('r', 114), ('u', 117), ('d', 100), ('d', 100), ('h', 104), ('a', 97), ('n', 110)]\n"
          ]
        }
      ]
    },
    {
      "cell_type": "markdown",
      "source": [
        "#ASCII code to string conversion"
      ],
      "metadata": {
        "id": "R8vo46_4v1N_"
      }
    },
    {
      "cell_type": "markdown",
      "source": [
        "**STRING TO ASCII**"
      ],
      "metadata": {
        "id": "pQLhVnJawHUL"
      }
    },
    {
      "cell_type": "code",
      "source": [
        "text = 'Virat Kohli is better!!!!!'\n",
        "for i in text:\n",
        "  print({i:ord(i)})"
      ],
      "metadata": {
        "colab": {
          "base_uri": "https://localhost:8080/"
        },
        "id": "g5go_f-cve7l",
        "outputId": "720c9795-7d35-4923-99bb-8871c79139a1"
      },
      "execution_count": 67,
      "outputs": [
        {
          "output_type": "stream",
          "name": "stdout",
          "text": [
            "{'V': 86}\n",
            "{'i': 105}\n",
            "{'r': 114}\n",
            "{'a': 97}\n",
            "{'t': 116}\n",
            "{' ': 32}\n",
            "{'K': 75}\n",
            "{'o': 111}\n",
            "{'h': 104}\n",
            "{'l': 108}\n",
            "{'i': 105}\n",
            "{' ': 32}\n",
            "{'i': 105}\n",
            "{'s': 115}\n",
            "{' ': 32}\n",
            "{'b': 98}\n",
            "{'e': 101}\n",
            "{'t': 116}\n",
            "{'t': 116}\n",
            "{'e': 101}\n",
            "{'r': 114}\n",
            "{'!': 33}\n",
            "{'!': 33}\n",
            "{'!': 33}\n",
            "{'!': 33}\n",
            "{'!': 33}\n"
          ]
        }
      ]
    },
    {
      "cell_type": "markdown",
      "source": [
        "**ASCII TO STRING**"
      ],
      "metadata": {
        "id": "VmP36eIPwLR0"
      }
    },
    {
      "cell_type": "code",
      "source": [
        "ascii = [{i : ord(i)} for i in text]"
      ],
      "metadata": {
        "id": "I3teJbWxv_Wm"
      },
      "execution_count": 68,
      "outputs": []
    },
    {
      "cell_type": "code",
      "source": [
        "chr(45)"
      ],
      "metadata": {
        "colab": {
          "base_uri": "https://localhost:8080/",
          "height": 36
        },
        "id": "uQxzWg8UwYA6",
        "outputId": "8e6c6d58-32b6-47bd-f136-6764205a921b"
      },
      "execution_count": 71,
      "outputs": [
        {
          "output_type": "execute_result",
          "data": {
            "text/plain": [
              "'-'"
            ],
            "application/vnd.google.colaboratory.intrinsic+json": {
              "type": "string"
            }
          },
          "metadata": {},
          "execution_count": 71
        }
      ]
    },
    {
      "cell_type": "code",
      "source": [
        "chr(17)"
      ],
      "metadata": {
        "colab": {
          "base_uri": "https://localhost:8080/",
          "height": 36
        },
        "id": "Y2GLdSK3wf4c",
        "outputId": "a97de5c6-a590-4e52-da81-17096e026437"
      },
      "execution_count": 72,
      "outputs": [
        {
          "output_type": "execute_result",
          "data": {
            "text/plain": [
              "'\\x11'"
            ],
            "application/vnd.google.colaboratory.intrinsic+json": {
              "type": "string"
            }
          },
          "metadata": {},
          "execution_count": 72
        }
      ]
    },
    {
      "cell_type": "markdown",
      "source": [
        "Sender"
      ],
      "metadata": {
        "id": "TedAKUfow8jI"
      }
    },
    {
      "cell_type": "code",
      "source": [
        "text[::-1] #encoded/encrypte the message and send it to person"
      ],
      "metadata": {
        "colab": {
          "base_uri": "https://localhost:8080/",
          "height": 36
        },
        "id": "s57U9Es1wlvO",
        "outputId": "a42f5a72-4373-484a-d64f-cf03073af45d"
      },
      "execution_count": 73,
      "outputs": [
        {
          "output_type": "execute_result",
          "data": {
            "text/plain": [
              "'!!!!!retteb si ilhoK tariV'"
            ],
            "application/vnd.google.colaboratory.intrinsic+json": {
              "type": "string"
            }
          },
          "metadata": {},
          "execution_count": 73
        }
      ]
    },
    {
      "cell_type": "markdown",
      "source": [
        "Receiver"
      ],
      "metadata": {
        "id": "0wchPAP_w981"
      }
    },
    {
      "cell_type": "code",
      "source": [
        "text[::-1][::-1]"
      ],
      "metadata": {
        "colab": {
          "base_uri": "https://localhost:8080/",
          "height": 36
        },
        "id": "miSmD9qZwzHf",
        "outputId": "6c0b7907-2488-45bb-c871-dff70792b6a2"
      },
      "execution_count": 74,
      "outputs": [
        {
          "output_type": "execute_result",
          "data": {
            "text/plain": [
              "'Virat Kohli is better!!!!!'"
            ],
            "application/vnd.google.colaboratory.intrinsic+json": {
              "type": "string"
            }
          },
          "metadata": {},
          "execution_count": 74
        }
      ]
    },
    {
      "cell_type": "markdown",
      "source": [
        "A-Z With ASCII Codes"
      ],
      "metadata": {
        "id": "-j5-eG7fxmRO"
      }
    },
    {
      "cell_type": "code",
      "source": [
        "l={}\n",
        "for i in range(65,91):\n",
        "  l[i]=chr(i)\n",
        "print(l)\n"
      ],
      "metadata": {
        "colab": {
          "base_uri": "https://localhost:8080/"
        },
        "id": "2vNpTw76xMjk",
        "outputId": "766cfbc3-13d2-43bb-f052-76b5c6714094"
      },
      "execution_count": 80,
      "outputs": [
        {
          "output_type": "stream",
          "name": "stdout",
          "text": [
            "{65: 'A', 66: 'B', 67: 'C', 68: 'D', 69: 'E', 70: 'F', 71: 'G', 72: 'H', 73: 'I', 74: 'J', 75: 'K', 76: 'L', 77: 'M', 78: 'N', 79: 'O', 80: 'P', 81: 'Q', 82: 'R', 83: 'S', 84: 'T', 85: 'U', 86: 'V', 87: 'W', 88: 'X', 89: 'Y', 90: 'Z'}\n"
          ]
        }
      ]
    },
    {
      "cell_type": "code",
      "source": [
        "x=''.join([chr(i) for i in range(65,91)])"
      ],
      "metadata": {
        "id": "03det6nrx6JD"
      },
      "execution_count": 83,
      "outputs": []
    },
    {
      "cell_type": "markdown",
      "source": [
        "Print Z-A"
      ],
      "metadata": {
        "id": "0Wh7mR93yYT1"
      }
    },
    {
      "cell_type": "code",
      "source": [
        "x[::-1]"
      ],
      "metadata": {
        "colab": {
          "base_uri": "https://localhost:8080/",
          "height": 36
        },
        "id": "gsywCdrWyUIO",
        "outputId": "eea920d8-bdab-4abc-e06c-9522b0d09456"
      },
      "execution_count": 84,
      "outputs": [
        {
          "output_type": "execute_result",
          "data": {
            "text/plain": [
              "'ZYXWVUTSRQPONMLKJIHGFEDCBA'"
            ],
            "application/vnd.google.colaboratory.intrinsic+json": {
              "type": "string"
            }
          },
          "metadata": {},
          "execution_count": 84
        }
      ]
    },
    {
      "cell_type": "markdown",
      "source": [
        "a-z"
      ],
      "metadata": {
        "id": "N8mSAw69ye2e"
      }
    },
    {
      "cell_type": "code",
      "source": [
        "y=''.join([chr(i) for i in range(97,123)])"
      ],
      "metadata": {
        "id": "rVqbDsVZycxq"
      },
      "execution_count": 88,
      "outputs": []
    },
    {
      "cell_type": "code",
      "source": [
        "y"
      ],
      "metadata": {
        "colab": {
          "base_uri": "https://localhost:8080/",
          "height": 36
        },
        "id": "fP_oNzMlymCr",
        "outputId": "da1dbe4c-abd0-4d55-8735-0cc346725e70"
      },
      "execution_count": 87,
      "outputs": [
        {
          "output_type": "execute_result",
          "data": {
            "text/plain": [
              "'abcdefghijklmnopqrstuvwxy'"
            ],
            "application/vnd.google.colaboratory.intrinsic+json": {
              "type": "string"
            }
          },
          "metadata": {},
          "execution_count": 87
        }
      ]
    },
    {
      "cell_type": "code",
      "source": [
        "z=''.join([chr(i) for i in range(122,96,-1)])"
      ],
      "metadata": {
        "id": "G2qPH4ouyoVj"
      },
      "execution_count": 93,
      "outputs": []
    },
    {
      "cell_type": "code",
      "source": [
        "z"
      ],
      "metadata": {
        "colab": {
          "base_uri": "https://localhost:8080/",
          "height": 36
        },
        "id": "pOCTEpE5yxQa",
        "outputId": "75e6e276-8b86-4fc1-e98c-672fe7daf125"
      },
      "execution_count": 94,
      "outputs": [
        {
          "output_type": "execute_result",
          "data": {
            "text/plain": [
              "'zyxwvutsrqponmlkjihgfedcba'"
            ],
            "application/vnd.google.colaboratory.intrinsic+json": {
              "type": "string"
            }
          },
          "metadata": {},
          "execution_count": 94
        }
      ]
    },
    {
      "cell_type": "markdown",
      "source": [
        "Print 3 uppercase character combinations"
      ],
      "metadata": {
        "id": "GkyulmZ6y_lW"
      }
    },
    {
      "cell_type": "code",
      "source": [
        "for i in range(65,91):\n",
        "  for j in range(65,91):\n",
        "    for k in range(65,91):\n",
        "      pass\n",
        "  print(chr(i)+chr(j)+chr(k))"
      ],
      "metadata": {
        "colab": {
          "base_uri": "https://localhost:8080/"
        },
        "id": "VzA3O6WTyxvA",
        "outputId": "93cf0086-2086-474d-91fa-c1d10c62d89f"
      },
      "execution_count": 95,
      "outputs": [
        {
          "output_type": "stream",
          "name": "stdout",
          "text": [
            "AZZ\n",
            "BZZ\n",
            "CZZ\n",
            "DZZ\n",
            "EZZ\n",
            "FZZ\n",
            "GZZ\n",
            "HZZ\n",
            "IZZ\n",
            "JZZ\n",
            "KZZ\n",
            "LZZ\n",
            "MZZ\n",
            "NZZ\n",
            "OZZ\n",
            "PZZ\n",
            "QZZ\n",
            "RZZ\n",
            "SZZ\n",
            "TZZ\n",
            "UZZ\n",
            "VZZ\n",
            "WZZ\n",
            "XZZ\n",
            "YZZ\n",
            "ZZZ\n"
          ]
        }
      ]
    },
    {
      "cell_type": "markdown",
      "source": [
        "Capitalize"
      ],
      "metadata": {
        "id": "DAQh_KlXzxfd"
      }
    },
    {
      "cell_type": "code",
      "source": [
        "text = 'Hey Maeve i just wanted to say, the clinic thing we started wasnt for money at all, rather it was for you. Yes i didnt want the money tho i just wanted to see you everyday even if you werent my girlfriend!Its Always been you Meave!Its always YOU'"
      ],
      "metadata": {
        "id": "qABH87hNzlFN"
      },
      "execution_count": 96,
      "outputs": []
    },
    {
      "cell_type": "code",
      "source": [
        "text"
      ],
      "metadata": {
        "colab": {
          "base_uri": "https://localhost:8080/",
          "height": 71
        },
        "id": "c2Ef_1ai0PtK",
        "outputId": "9e6af035-3e10-4139-a1ee-1be0d7e36599"
      },
      "execution_count": 97,
      "outputs": [
        {
          "output_type": "execute_result",
          "data": {
            "text/plain": [
              "'Hey Maeve i just wanted to say, the clinic thing we started wasnt for money at all, rather it was for you. Yes i didnt want the money tho i just wanted to see you everyday even if you werent my girlfriend!Its Always been you Meave!Its always YOU'"
            ],
            "application/vnd.google.colaboratory.intrinsic+json": {
              "type": "string"
            }
          },
          "metadata": {},
          "execution_count": 97
        }
      ]
    },
    {
      "cell_type": "code",
      "source": [
        "text.capitalize()"
      ],
      "metadata": {
        "colab": {
          "base_uri": "https://localhost:8080/",
          "height": 71
        },
        "id": "QI92mOwH0RtS",
        "outputId": "e5da8130-dfad-4d06-a7fb-6655142e647d"
      },
      "execution_count": 99,
      "outputs": [
        {
          "output_type": "execute_result",
          "data": {
            "text/plain": [
              "'Hey maeve i just wanted to say, the clinic thing we started wasnt for money at all, rather it was for you. yes i didnt want the money tho i just wanted to see you everyday even if you werent my girlfriend!its always been you meave!its always you'"
            ],
            "application/vnd.google.colaboratory.intrinsic+json": {
              "type": "string"
            }
          },
          "metadata": {},
          "execution_count": 99
        }
      ]
    },
    {
      "cell_type": "code",
      "source": [
        "def Capitalise(text):\n",
        "  if(len(text)!=0):\n",
        "    return text[0].upper + text[1:].lower()\n",
        "  else:\n",
        "    return None"
      ],
      "metadata": {
        "id": "_LSHkz_H0TYN"
      },
      "execution_count": 107,
      "outputs": []
    },
    {
      "cell_type": "markdown",
      "source": [
        "Upper() and Lower()"
      ],
      "metadata": {
        "id": "qcR8q1R516il"
      }
    },
    {
      "cell_type": "code",
      "source": [
        "t='Hellow How are you and your life'"
      ],
      "metadata": {
        "id": "8dSf4FnI1m1U"
      },
      "execution_count": 110,
      "outputs": []
    },
    {
      "cell_type": "markdown",
      "source": [
        "#UpperCase Function"
      ],
      "metadata": {
        "id": "lQJDeVBh2BQN"
      }
    },
    {
      "cell_type": "code",
      "source": [
        "str=''\n",
        "for i in t:\n",
        "  if(ord(i)>=97 and ord(i)<=122):\n",
        "    str+= chr(ord(i)-32)\n",
        "  else:\n",
        "    str+= chr(ord(i))\n",
        "print(str)"
      ],
      "metadata": {
        "colab": {
          "base_uri": "https://localhost:8080/"
        },
        "id": "58lDoFnD2Abn",
        "outputId": "b9c04650-4bf7-4198-eb7b-c3279538dad6"
      },
      "execution_count": 120,
      "outputs": [
        {
          "output_type": "stream",
          "name": "stdout",
          "text": [
            "HELLOW HOW ARE YOU AND YOUR LIFE\n"
          ]
        }
      ]
    },
    {
      "cell_type": "markdown",
      "source": [
        "#LowerCase Function"
      ],
      "metadata": {
        "id": "uwdDzGpc3wdy"
      }
    },
    {
      "cell_type": "code",
      "source": [
        "def lowerize(t):\n",
        "  str=''\n",
        "  for i in t:\n",
        "    if(ord(i)>=65 and ord(i)<=90):\n",
        "      str+= chr(ord(i)+32)\n",
        "    else:\n",
        "      str+= chr(ord(i))\n",
        "  return str"
      ],
      "metadata": {
        "id": "-cl-KJoC2Kad"
      },
      "execution_count": 121,
      "outputs": []
    },
    {
      "cell_type": "code",
      "source": [
        "lowerize('HWEJGLWJGLEJRGJE')"
      ],
      "metadata": {
        "colab": {
          "base_uri": "https://localhost:8080/",
          "height": 36
        },
        "id": "3-tGSgLY4H1J",
        "outputId": "0ff9e984-0f06-48b0-f323-106dbd629ed6"
      },
      "execution_count": 122,
      "outputs": [
        {
          "output_type": "execute_result",
          "data": {
            "text/plain": [
              "'hwejglwjglejrgje'"
            ],
            "application/vnd.google.colaboratory.intrinsic+json": {
              "type": "string"
            }
          },
          "metadata": {},
          "execution_count": 122
        }
      ]
    },
    {
      "cell_type": "markdown",
      "source": [
        "#Check type of Data in the string"
      ],
      "metadata": {
        "id": "KnOFcJMn4ToD"
      }
    },
    {
      "cell_type": "code",
      "source": [
        "#isalpha()\n",
        "#isalnum()\n",
        "#isdigit()\n",
        "#islower()\n",
        "#isupper()\n",
        "#isnumeric()"
      ],
      "metadata": {
        "id": "ORqmFZe-4Lg8"
      },
      "execution_count": 123,
      "outputs": []
    },
    {
      "cell_type": "code",
      "source": [
        "txt: 'ANirudhan'"
      ],
      "metadata": {
        "id": "Rr1cx0kh-8iu"
      },
      "execution_count": 133,
      "outputs": []
    },
    {
      "cell_type": "code",
      "source": [
        "def isapa(txt):\n",
        "c=0\n",
        "for i in txt:\n",
        "  if((ord(i)>=65 and ord(i)<=90) or (ord(i)>=97 and ord(i)<=122)):\n",
        "    c+=1\n",
        "if(len(txt)==c):\n",
        "  return True\n",
        "else:\n",
        "  reaturn False"
      ],
      "metadata": {
        "colab": {
          "base_uri": "https://localhost:8080/",
          "height": 228
        },
        "id": "yp0exxKQ4hGD",
        "outputId": "5b8e0c60-476d-4b0e-8d78-53755d9cf9e8"
      },
      "execution_count": 126,
      "outputs": [
        {
          "output_type": "error",
          "ename": "TypeError",
          "evalue": "ignored",
          "traceback": [
            "\u001b[0;31m---------------------------------------------------------------------------\u001b[0m",
            "\u001b[0;31mTypeError\u001b[0m                                 Traceback (most recent call last)",
            "\u001b[0;32m<ipython-input-126-ffdbf27619d2>\u001b[0m in \u001b[0;36m<cell line: 2>\u001b[0;34m()\u001b[0m\n\u001b[1;32m      1\u001b[0m \u001b[0mtxt\u001b[0m\u001b[0;34m:\u001b[0m \u001b[0;34m'ANirudhan'\u001b[0m\u001b[0;34m\u001b[0m\u001b[0;34m\u001b[0m\u001b[0m\n\u001b[1;32m      2\u001b[0m \u001b[0;32mfor\u001b[0m \u001b[0mi\u001b[0m \u001b[0;32min\u001b[0m \u001b[0mtxt\u001b[0m\u001b[0;34m:\u001b[0m\u001b[0;34m\u001b[0m\u001b[0;34m\u001b[0m\u001b[0m\n\u001b[0;32m----> 3\u001b[0;31m   \u001b[0;32mif\u001b[0m\u001b[0;34m(\u001b[0m\u001b[0;34m(\u001b[0m\u001b[0mord\u001b[0m\u001b[0;34m(\u001b[0m\u001b[0mi\u001b[0m\u001b[0;34m)\u001b[0m\u001b[0;34m>=\u001b[0m\u001b[0;36m65\u001b[0m \u001b[0;32mand\u001b[0m \u001b[0mord\u001b[0m\u001b[0;34m(\u001b[0m\u001b[0mi\u001b[0m\u001b[0;34m)\u001b[0m\u001b[0;34m<=\u001b[0m\u001b[0;36m90\u001b[0m\u001b[0;34m)\u001b[0m \u001b[0;32mor\u001b[0m \u001b[0;34m(\u001b[0m\u001b[0mord\u001b[0m\u001b[0;34m(\u001b[0m\u001b[0mi\u001b[0m\u001b[0;34m)\u001b[0m\u001b[0;34m>=\u001b[0m\u001b[0;36m97\u001b[0m \u001b[0;32mand\u001b[0m \u001b[0mord\u001b[0m\u001b[0;34m(\u001b[0m\u001b[0mi\u001b[0m\u001b[0;34m)\u001b[0m\u001b[0;34m<=\u001b[0m\u001b[0;36m122\u001b[0m\u001b[0;34m)\u001b[0m\u001b[0;34m)\u001b[0m\u001b[0;34m:\u001b[0m\u001b[0;34m\u001b[0m\u001b[0;34m\u001b[0m\u001b[0m\n\u001b[0m\u001b[1;32m      4\u001b[0m     \u001b[0mprint\u001b[0m\u001b[0;34m(\u001b[0m\u001b[0;34m'uppercase:'\u001b[0m\u001b[0;34m,\u001b[0m\u001b[0mi\u001b[0m\u001b[0;34m)\u001b[0m\u001b[0;34m\u001b[0m\u001b[0;34m\u001b[0m\u001b[0m\n",
            "\u001b[0;31mTypeError\u001b[0m: ord() expected a character, but string of length 4 found"
          ]
        }
      ]
    },
    {
      "cell_type": "code",
      "source": [
        "'Ahy'.isalpha()"
      ],
      "metadata": {
        "colab": {
          "base_uri": "https://localhost:8080/"
        },
        "id": "3hnu_HaZ-K-5",
        "outputId": "3f122585-cc93-4464-8439-1bce059f399a"
      },
      "execution_count": 131,
      "outputs": [
        {
          "output_type": "execute_result",
          "data": {
            "text/plain": [
              "True"
            ]
          },
          "metadata": {},
          "execution_count": 131
        }
      ]
    },
    {
      "cell_type": "code",
      "source": [
        "\"An irud \".isalpha()"
      ],
      "metadata": {
        "colab": {
          "base_uri": "https://localhost:8080/"
        },
        "id": "CpUL41Ti-brj",
        "outputId": "34115c8b-0498-4169-fff6-70034ef09d9e"
      },
      "execution_count": 132,
      "outputs": [
        {
          "output_type": "execute_result",
          "data": {
            "text/plain": [
              "False"
            ]
          },
          "metadata": {},
          "execution_count": 132
        }
      ]
    },
    {
      "cell_type": "code",
      "source": [],
      "metadata": {
        "id": "gbrlONdy-p44"
      },
      "execution_count": null,
      "outputs": []
    },
    {
      "cell_type": "markdown",
      "source": [
        "#isdigit()"
      ],
      "metadata": {
        "id": "0QK2lWj3_BGP"
      }
    },
    {
      "cell_type": "code",
      "source": [
        "def idigit(txt):\n",
        "  c=0\n",
        "  for i in txt:\n",
        "    if(ord(i)>=48 and ord(i)<=57):\n",
        "      c+=1\n",
        "  if(len(txt)==c):\n",
        "    return c\n",
        "  else:\n",
        "    return False"
      ],
      "metadata": {
        "id": "6w0s_y3p_CI_"
      },
      "execution_count": 137,
      "outputs": []
    },
    {
      "cell_type": "code",
      "source": [
        "txt='iyrqihe'"
      ],
      "metadata": {
        "id": "x8ZG0yC4_ebQ"
      },
      "execution_count": 140,
      "outputs": []
    },
    {
      "cell_type": "code",
      "source": [
        "idigit(txt)"
      ],
      "metadata": {
        "colab": {
          "base_uri": "https://localhost:8080/"
        },
        "id": "nNZPUciP_gIo",
        "outputId": "21dc4808-c714-43f9-defb-b2139b36a242"
      },
      "execution_count": 141,
      "outputs": [
        {
          "output_type": "execute_result",
          "data": {
            "text/plain": [
              "False"
            ]
          },
          "metadata": {},
          "execution_count": 141
        }
      ]
    },
    {
      "cell_type": "markdown",
      "source": [
        "#Title"
      ],
      "metadata": {
        "id": "4Pb-wLWF_xsd"
      }
    },
    {
      "cell_type": "code",
      "source": [
        "txt.title()"
      ],
      "metadata": {
        "colab": {
          "base_uri": "https://localhost:8080/",
          "height": 36
        },
        "id": "VUb3mgf6_jO9",
        "outputId": "2f68828d-a2e4-4f4b-93f0-c78423baa5b1"
      },
      "execution_count": 142,
      "outputs": [
        {
          "output_type": "execute_result",
          "data": {
            "text/plain": [
              "'Iyrqihe'"
            ],
            "application/vnd.google.colaboratory.intrinsic+json": {
              "type": "string"
            }
          },
          "metadata": {},
          "execution_count": 142
        }
      ]
    },
    {
      "cell_type": "code",
      "source": [
        "t='Wujglkug Ilkugek Il.'"
      ],
      "metadata": {
        "id": "cdrC_rRsAcb4"
      },
      "execution_count": 143,
      "outputs": []
    },
    {
      "cell_type": "code",
      "source": [
        "t.title()"
      ],
      "metadata": {
        "colab": {
          "base_uri": "https://localhost:8080/",
          "height": 36
        },
        "id": "hwckptUmAhvq",
        "outputId": "231f54a9-434d-40cb-a61f-e02c1e106d78"
      },
      "execution_count": 144,
      "outputs": [
        {
          "output_type": "execute_result",
          "data": {
            "text/plain": [
              "'Wujglkug Ilkugek Il.'"
            ],
            "application/vnd.google.colaboratory.intrinsic+json": {
              "type": "string"
            }
          },
          "metadata": {},
          "execution_count": 144
        }
      ]
    },
    {
      "cell_type": "code",
      "source": [
        "str=''\n",
        "output=[]\n",
        "for i in t.split(' '):\n",
        "  output.append(i[0].upper()+i[1:].lower())\n",
        "\n",
        "' '.join(output)\n"
      ],
      "metadata": {
        "colab": {
          "base_uri": "https://localhost:8080/",
          "height": 36
        },
        "id": "d9fnd4BRAjEA",
        "outputId": "94afc40c-5c8a-46e4-dc0b-88320ebc3eb9"
      },
      "execution_count": 149,
      "outputs": [
        {
          "output_type": "execute_result",
          "data": {
            "text/plain": [
              "'Wujglkug Ilkugek Il.'"
            ],
            "application/vnd.google.colaboratory.intrinsic+json": {
              "type": "string"
            }
          },
          "metadata": {},
          "execution_count": 149
        }
      ]
    },
    {
      "cell_type": "code",
      "source": [],
      "metadata": {
        "id": "xuyyAfI9Aydp"
      },
      "execution_count": null,
      "outputs": []
    }
  ]
}