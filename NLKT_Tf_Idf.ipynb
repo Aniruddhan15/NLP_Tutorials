{
  "nbformat": 4,
  "nbformat_minor": 0,
  "metadata": {
    "colab": {
      "provenance": []
    },
    "kernelspec": {
      "name": "python3",
      "display_name": "Python 3"
    },
    "language_info": {
      "name": "python"
    }
  },
  "cells": [
    {
      "cell_type": "code",
      "execution_count": 2,
      "metadata": {
        "colab": {
          "base_uri": "https://localhost:8080/"
        },
        "id": "-U7tAXaZgtVl",
        "outputId": "0149571a-6b91-45f0-ee58-79f9b9259f1b"
      },
      "outputs": [
        {
          "output_type": "stream",
          "name": "stdout",
          "text": [
            "Requirement already satisfied: nltk in /usr/local/lib/python3.10/dist-packages (3.8.1)\n",
            "Requirement already satisfied: click in /usr/local/lib/python3.10/dist-packages (from nltk) (8.1.7)\n",
            "Requirement already satisfied: joblib in /usr/local/lib/python3.10/dist-packages (from nltk) (1.3.2)\n",
            "Requirement already satisfied: regex>=2021.8.3 in /usr/local/lib/python3.10/dist-packages (from nltk) (2023.6.3)\n",
            "Requirement already satisfied: tqdm in /usr/local/lib/python3.10/dist-packages (from nltk) (4.66.1)\n"
          ]
        }
      ],
      "source": [
        "!pip install nltk"
      ]
    },
    {
      "cell_type": "code",
      "source": [
        "para=\"Narendra Damodardas Modi (Gujarati: [ˈnəɾendɾə dɑmodəɾˈdɑs ˈmodiː] ⓘ; born 17 September 1950)[b] is an Indian politician who has served as the 14th prime minister of India since May 2014. Modi was the Chief Minister of Gujarat from 2001 to 2014 and is the Member of Parliament (MP) for Varanasi. He is a member of the Bharatiya Janata Party (BJP) and of the Rashtriya Swayamsevak Sangh (RSS), a right-wing Hindu nationalist paramilitary volunteer organisation. He is the longest-serving prime minister from outside the Indian National Congress.Modi was born and raised in Vadnagar in northeastern Gujarat, where he completed his secondary education. He was introduced to the RSS at the age of eight. His account of helping his father sell tea at the Vadnagar railway station has not been reliably corroborated. At age 18, he was married to Jashodaben Modi, whom he abandoned soon after, only publicly acknowledging her four decades later when legally required to do so. Modi became a full-time worker for the RSS in Gujarat in 1971. The RSS assigned him to the BJP in 1985 and he held several positions within the party hierarchy until 2001, rising to the rank of general secretary.[c]\""
      ],
      "metadata": {
        "id": "rh7jjBI5hGP9"
      },
      "execution_count": 3,
      "outputs": []
    },
    {
      "cell_type": "code",
      "source": [
        "para"
      ],
      "metadata": {
        "colab": {
          "base_uri": "https://localhost:8080/",
          "height": 227
        },
        "id": "wWf1cv1MhRuI",
        "outputId": "23613ff6-99da-4e6f-91c1-d5f164b998ba"
      },
      "execution_count": 4,
      "outputs": [
        {
          "output_type": "execute_result",
          "data": {
            "text/plain": [
              "'Narendra Damodardas Modi (Gujarati: [ˈnəɾendɾə dɑmodəɾˈdɑs ˈmodiː] ⓘ; born 17 September 1950)[b] is an Indian politician who has served as the 14th prime minister of India since May 2014. Modi was the Chief Minister of Gujarat from 2001 to 2014 and is the Member of Parliament (MP) for Varanasi. He is a member of the Bharatiya Janata Party (BJP) and of the Rashtriya Swayamsevak Sangh (RSS), a right-wing Hindu nationalist paramilitary volunteer organisation. He is the longest-serving prime minister from outside the Indian National Congress.Modi was born and raised in Vadnagar in northeastern Gujarat, where he completed his secondary education. He was introduced to the RSS at the age of eight. His account of helping his father sell tea at the Vadnagar railway station has not been reliably corroborated. At age 18, he was married to Jashodaben Modi, whom he abandoned soon after, only publicly acknowledging her four decades later when legally required to do so. Modi became a full-time worker for the RSS in Gujarat in 1971. The RSS assigned him to the BJP in 1985 and he held several positions within the party hierarchy until 2001, rising to the rank of general secretary.[c]'"
            ],
            "application/vnd.google.colaboratory.intrinsic+json": {
              "type": "string"
            }
          },
          "metadata": {},
          "execution_count": 4
        }
      ]
    },
    {
      "cell_type": "code",
      "source": [
        "import nltk\n",
        "from nltk.stem import PorterStemmer\n",
        "from nltk.corpus import stopwords"
      ],
      "metadata": {
        "id": "Oq_LXE1ThSVx"
      },
      "execution_count": 6,
      "outputs": []
    },
    {
      "cell_type": "markdown",
      "source": [
        "Tokenisation"
      ],
      "metadata": {
        "id": "HlAHOpW4hjDr"
      }
    },
    {
      "cell_type": "code",
      "source": [
        "nltk.download('punkt')\n",
        "sent=nltk.sent_tokenize(para)"
      ],
      "metadata": {
        "colab": {
          "base_uri": "https://localhost:8080/"
        },
        "id": "rQrlIML8hcdQ",
        "outputId": "1a991be0-4616-414b-e8dd-8ad177f5b2d9"
      },
      "execution_count": 7,
      "outputs": [
        {
          "output_type": "stream",
          "name": "stderr",
          "text": [
            "[nltk_data] Downloading package punkt to /root/nltk_data...\n",
            "[nltk_data]   Unzipping tokenizers/punkt.zip.\n"
          ]
        }
      ]
    },
    {
      "cell_type": "code",
      "source": [
        "sent"
      ],
      "metadata": {
        "colab": {
          "base_uri": "https://localhost:8080/"
        },
        "id": "jLT0_S2Qhrvx",
        "outputId": "734be734-e46a-481d-d82e-3c2513e86ce6"
      },
      "execution_count": 8,
      "outputs": [
        {
          "output_type": "execute_result",
          "data": {
            "text/plain": [
              "['Narendra Damodardas Modi (Gujarati: [ˈnəɾendɾə dɑmodəɾˈdɑs ˈmodiː] ⓘ; born 17 September 1950)[b] is an Indian politician who has served as the 14th prime minister of India since May 2014.',\n",
              " 'Modi was the Chief Minister of Gujarat from 2001 to 2014 and is the Member of Parliament (MP) for Varanasi.',\n",
              " 'He is a member of the Bharatiya Janata Party (BJP) and of the Rashtriya Swayamsevak Sangh (RSS), a right-wing Hindu nationalist paramilitary volunteer organisation.',\n",
              " 'He is the longest-serving prime minister from outside the Indian National Congress.Modi was born and raised in Vadnagar in northeastern Gujarat, where he completed his secondary education.',\n",
              " 'He was introduced to the RSS at the age of eight.',\n",
              " 'His account of helping his father sell tea at the Vadnagar railway station has not been reliably corroborated.',\n",
              " 'At age 18, he was married to Jashodaben Modi, whom he abandoned soon after, only publicly acknowledging her four decades later when legally required to do so.',\n",
              " 'Modi became a full-time worker for the RSS in Gujarat in 1971.',\n",
              " 'The RSS assigned him to the BJP in 1985 and he held several positions within the party hierarchy until 2001, rising to the rank of general secretary.',\n",
              " '[c]']"
            ]
          },
          "metadata": {},
          "execution_count": 8
        }
      ]
    },
    {
      "cell_type": "code",
      "source": [
        "type(sent)"
      ],
      "metadata": {
        "colab": {
          "base_uri": "https://localhost:8080/"
        },
        "id": "-IFxzwkehsn3",
        "outputId": "44566b9b-267e-478e-8c19-d6d3996c3b67"
      },
      "execution_count": 9,
      "outputs": [
        {
          "output_type": "execute_result",
          "data": {
            "text/plain": [
              "list"
            ]
          },
          "metadata": {},
          "execution_count": 9
        }
      ]
    },
    {
      "cell_type": "code",
      "source": [
        "stemmer=PorterStemmer()"
      ],
      "metadata": {
        "id": "um64HYeRhvyn"
      },
      "execution_count": 10,
      "outputs": []
    },
    {
      "cell_type": "code",
      "source": [
        "stemmer.stem('drinking')"
      ],
      "metadata": {
        "colab": {
          "base_uri": "https://localhost:8080/",
          "height": 36
        },
        "id": "k9b2r_eSiRni",
        "outputId": "2567cdc1-9a57-4892-cadc-c2344999aaa3"
      },
      "execution_count": 11,
      "outputs": [
        {
          "output_type": "execute_result",
          "data": {
            "text/plain": [
              "'drink'"
            ],
            "application/vnd.google.colaboratory.intrinsic+json": {
              "type": "string"
            }
          },
          "metadata": {},
          "execution_count": 11
        }
      ]
    },
    {
      "cell_type": "code",
      "source": [
        "stemmer.stem('fantabulous')"
      ],
      "metadata": {
        "colab": {
          "base_uri": "https://localhost:8080/",
          "height": 36
        },
        "id": "DWRf8WqniTD8",
        "outputId": "6456cce1-18f7-4a23-a3a3-b07756569359"
      },
      "execution_count": 12,
      "outputs": [
        {
          "output_type": "execute_result",
          "data": {
            "text/plain": [
              "'fantabul'"
            ],
            "application/vnd.google.colaboratory.intrinsic+json": {
              "type": "string"
            }
          },
          "metadata": {},
          "execution_count": 12
        }
      ]
    },
    {
      "cell_type": "code",
      "source": [
        "stemmer.stem('mind blowing')"
      ],
      "metadata": {
        "colab": {
          "base_uri": "https://localhost:8080/",
          "height": 36
        },
        "id": "BcFg-mLhiW6v",
        "outputId": "66302554-8ca7-4249-ad05-d562b416ff37"
      },
      "execution_count": 13,
      "outputs": [
        {
          "output_type": "execute_result",
          "data": {
            "text/plain": [
              "'mind blow'"
            ],
            "application/vnd.google.colaboratory.intrinsic+json": {
              "type": "string"
            }
          },
          "metadata": {},
          "execution_count": 13
        }
      ]
    },
    {
      "cell_type": "markdown",
      "source": [
        "Lemmatisation"
      ],
      "metadata": {
        "id": "Xz6Qd1vniaFX"
      }
    },
    {
      "cell_type": "code",
      "source": [
        "from nltk.stem import WordNetLemmatizer"
      ],
      "metadata": {
        "id": "sILat49XiYfO"
      },
      "execution_count": 14,
      "outputs": []
    },
    {
      "cell_type": "code",
      "source": [
        "lem=WordNetLemmatizer()"
      ],
      "metadata": {
        "id": "X_1FWIRtidsf"
      },
      "execution_count": 15,
      "outputs": []
    },
    {
      "cell_type": "code",
      "source": [
        "nltk.download('wordnet')\n"
      ],
      "metadata": {
        "colab": {
          "base_uri": "https://localhost:8080/"
        },
        "id": "ODLugk38i4hg",
        "outputId": "b26b3caf-bce7-4a01-a05a-4c5f99bdcaf6"
      },
      "execution_count": 18,
      "outputs": [
        {
          "output_type": "stream",
          "name": "stderr",
          "text": [
            "[nltk_data] Downloading package wordnet to /root/nltk_data...\n"
          ]
        },
        {
          "output_type": "execute_result",
          "data": {
            "text/plain": [
              "True"
            ]
          },
          "metadata": {},
          "execution_count": 18
        }
      ]
    },
    {
      "cell_type": "code",
      "source": [
        "lem.lemmatize('goes')"
      ],
      "metadata": {
        "colab": {
          "base_uri": "https://localhost:8080/",
          "height": 36
        },
        "id": "9XW1NkAbihVy",
        "outputId": "0527e234-a166-43f1-889d-ddc30aeb9573"
      },
      "execution_count": 19,
      "outputs": [
        {
          "output_type": "execute_result",
          "data": {
            "text/plain": [
              "'go'"
            ],
            "application/vnd.google.colaboratory.intrinsic+json": {
              "type": "string"
            }
          },
          "metadata": {},
          "execution_count": 19
        }
      ]
    },
    {
      "cell_type": "code",
      "source": [
        "lem.lemmatize('Beautifull')"
      ],
      "metadata": {
        "colab": {
          "base_uri": "https://localhost:8080/",
          "height": 36
        },
        "id": "eDZbzvAVijH6",
        "outputId": "2616d4ed-2d45-4acb-bbcf-ab7b7717ad5d"
      },
      "execution_count": 20,
      "outputs": [
        {
          "output_type": "execute_result",
          "data": {
            "text/plain": [
              "'Beautifull'"
            ],
            "application/vnd.google.colaboratory.intrinsic+json": {
              "type": "string"
            }
          },
          "metadata": {},
          "execution_count": 20
        }
      ]
    },
    {
      "cell_type": "code",
      "source": [
        "lem.lemmatize('glorious')"
      ],
      "metadata": {
        "colab": {
          "base_uri": "https://localhost:8080/",
          "height": 36
        },
        "id": "zr_lxP3Vi8-W",
        "outputId": "6d68ed97-f1e8-4eb2-8f78-0d91ecb07c9f"
      },
      "execution_count": 21,
      "outputs": [
        {
          "output_type": "execute_result",
          "data": {
            "text/plain": [
              "'glorious'"
            ],
            "application/vnd.google.colaboratory.intrinsic+json": {
              "type": "string"
            }
          },
          "metadata": {},
          "execution_count": 21
        }
      ]
    },
    {
      "cell_type": "code",
      "source": [
        "lem.lemmatize('Swinging')"
      ],
      "metadata": {
        "colab": {
          "base_uri": "https://localhost:8080/",
          "height": 36
        },
        "id": "dBOamWS0jA2I",
        "outputId": "0cd6cea1-cdd0-4be1-d2b1-2a4065a06e0c"
      },
      "execution_count": 22,
      "outputs": [
        {
          "output_type": "execute_result",
          "data": {
            "text/plain": [
              "'Swinging'"
            ],
            "application/vnd.google.colaboratory.intrinsic+json": {
              "type": "string"
            }
          },
          "metadata": {},
          "execution_count": 22
        }
      ]
    },
    {
      "cell_type": "code",
      "source": [
        "import re\n",
        "corpus=[]\n",
        "for i in range(len(sent)):\n",
        "  review=re.sub('[^a-zA-Z]',' ',sent[i])\n",
        "  review.lower()\n",
        "  corpus.append(review)"
      ],
      "metadata": {
        "id": "tdkxZfDCjF3O"
      },
      "execution_count": 24,
      "outputs": []
    },
    {
      "cell_type": "code",
      "source": [
        "corpus"
      ],
      "metadata": {
        "colab": {
          "base_uri": "https://localhost:8080/"
        },
        "id": "XR0qtagWjf0N",
        "outputId": "9b636819-8ecd-4925-ab25-405b0e179ff1"
      },
      "execution_count": 25,
      "outputs": [
        {
          "output_type": "execute_result",
          "data": {
            "text/plain": [
              "['Narendra Damodardas Modi  Gujarati    n  end   d mod   d s  modi      born    September       b  is an Indian politician who has served as the   th prime minister of India since May      ',\n",
              " 'Modi was the Chief Minister of Gujarat from      to      and is the Member of Parliament  MP  for Varanasi ',\n",
              " 'He is a member of the Bharatiya Janata Party  BJP  and of the Rashtriya Swayamsevak Sangh  RSS   a right wing Hindu nationalist paramilitary volunteer organisation ',\n",
              " 'He is the longest serving prime minister from outside the Indian National Congress Modi was born and raised in Vadnagar in northeastern Gujarat  where he completed his secondary education ',\n",
              " 'He was introduced to the RSS at the age of eight ',\n",
              " 'His account of helping his father sell tea at the Vadnagar railway station has not been reliably corroborated ',\n",
              " 'At age     he was married to Jashodaben Modi  whom he abandoned soon after  only publicly acknowledging her four decades later when legally required to do so ',\n",
              " 'Modi became a full time worker for the RSS in Gujarat in      ',\n",
              " 'The RSS assigned him to the BJP in      and he held several positions within the party hierarchy until       rising to the rank of general secretary ',\n",
              " ' c ']"
            ]
          },
          "metadata": {},
          "execution_count": 25
        }
      ]
    },
    {
      "cell_type": "code",
      "source": [
        "nltk.download('stopwords')"
      ],
      "metadata": {
        "colab": {
          "base_uri": "https://localhost:8080/"
        },
        "id": "b_xsINVJkIOZ",
        "outputId": "89e8bd0b-1ee8-4e14-c389-ca2bb2667dfd"
      },
      "execution_count": 27,
      "outputs": [
        {
          "output_type": "stream",
          "name": "stderr",
          "text": [
            "[nltk_data] Downloading package stopwords to /root/nltk_data...\n",
            "[nltk_data]   Unzipping corpora/stopwords.zip.\n"
          ]
        },
        {
          "output_type": "execute_result",
          "data": {
            "text/plain": [
              "True"
            ]
          },
          "metadata": {},
          "execution_count": 27
        }
      ]
    },
    {
      "cell_type": "code",
      "source": [
        "for i in corpus:\n",
        "  words = nltk.word_tokenize(i)\n",
        "  for word in words:\n",
        "    if word not in set(stopwords.words('english')):\n",
        "      print(stemmer.stem(word))"
      ],
      "metadata": {
        "colab": {
          "base_uri": "https://localhost:8080/"
        },
        "id": "tXIxnEhAjm69",
        "outputId": "0018bc44-8ea6-4e4c-8b58-9afdddb08a46"
      },
      "execution_count": 28,
      "outputs": [
        {
          "output_type": "stream",
          "name": "stdout",
          "text": [
            "narendra\n",
            "damodarda\n",
            "modi\n",
            "gujarati\n",
            "n\n",
            "end\n",
            "mod\n",
            "modi\n",
            "born\n",
            "septemb\n",
            "b\n",
            "indian\n",
            "politician\n",
            "serv\n",
            "th\n",
            "prime\n",
            "minist\n",
            "india\n",
            "sinc\n",
            "may\n",
            "modi\n",
            "chief\n",
            "minist\n",
            "gujarat\n",
            "member\n",
            "parliament\n",
            "mp\n",
            "varanasi\n",
            "he\n",
            "member\n",
            "bharatiya\n",
            "janata\n",
            "parti\n",
            "bjp\n",
            "rashtriya\n",
            "swayamsevak\n",
            "sangh\n",
            "rss\n",
            "right\n",
            "wing\n",
            "hindu\n",
            "nationalist\n",
            "paramilitari\n",
            "volunt\n",
            "organis\n",
            "he\n",
            "longest\n",
            "serv\n",
            "prime\n",
            "minist\n",
            "outsid\n",
            "indian\n",
            "nation\n",
            "congress\n",
            "modi\n",
            "born\n",
            "rais\n",
            "vadnagar\n",
            "northeastern\n",
            "gujarat\n",
            "complet\n",
            "secondari\n",
            "educ\n",
            "he\n",
            "introduc\n",
            "rss\n",
            "age\n",
            "eight\n",
            "hi\n",
            "account\n",
            "help\n",
            "father\n",
            "sell\n",
            "tea\n",
            "vadnagar\n",
            "railway\n",
            "station\n",
            "reliabl\n",
            "corrobor\n",
            "at\n",
            "age\n",
            "marri\n",
            "jashodaben\n",
            "modi\n",
            "abandon\n",
            "soon\n",
            "publicli\n",
            "acknowledg\n",
            "four\n",
            "decad\n",
            "later\n",
            "legal\n",
            "requir\n",
            "modi\n",
            "becam\n",
            "full\n",
            "time\n",
            "worker\n",
            "rss\n",
            "gujarat\n",
            "the\n",
            "rss\n",
            "assign\n",
            "bjp\n",
            "held\n",
            "sever\n",
            "posit\n",
            "within\n",
            "parti\n",
            "hierarchi\n",
            "rise\n",
            "rank\n",
            "gener\n",
            "secretari\n",
            "c\n"
          ]
        }
      ]
    },
    {
      "cell_type": "markdown",
      "source": [
        "BAG OF WORDS"
      ],
      "metadata": {
        "id": "-_QkskuVjkeO"
      }
    },
    {
      "cell_type": "code",
      "source": [
        "from sklearn.feature_extraction.text import CountVectorizer\n",
        "cv=CountVectorizer()"
      ],
      "metadata": {
        "id": "8sZVk_eSlPGS"
      },
      "execution_count": 29,
      "outputs": []
    },
    {
      "cell_type": "code",
      "source": [
        "X=cv.fit_transform(corpus)"
      ],
      "metadata": {
        "id": "A23fjGJdlZu1"
      },
      "execution_count": 31,
      "outputs": []
    },
    {
      "cell_type": "code",
      "source": [
        "cv.vocabulary_"
      ],
      "metadata": {
        "colab": {
          "base_uri": "https://localhost:8080/"
        },
        "id": "hhEoeLyrlXsI",
        "outputId": "e8409d98-e22c-4459-d83e-b1338565d4fa"
      },
      "execution_count": 32,
      "outputs": [
        {
          "output_type": "execute_result",
          "data": {
            "text/plain": [
              "{'narendra': 59,\n",
              " 'damodardas': 19,\n",
              " 'modi': 57,\n",
              " 'gujarati': 32,\n",
              " 'end': 24,\n",
              " 'mod': 56,\n",
              " 'born': 14,\n",
              " 'september': 88,\n",
              " 'is': 46,\n",
              " 'an': 5,\n",
              " 'indian': 44,\n",
              " 'politician': 71,\n",
              " 'who': 109,\n",
              " 'has': 33,\n",
              " 'served': 89,\n",
              " 'as': 7,\n",
              " 'the': 99,\n",
              " 'th': 98,\n",
              " 'prime': 73,\n",
              " 'minister': 55,\n",
              " 'of': 64,\n",
              " 'india': 43,\n",
              " 'since': 92,\n",
              " 'may': 53,\n",
              " 'was': 106,\n",
              " 'chief': 15,\n",
              " 'gujarat': 31,\n",
              " 'from': 28,\n",
              " 'to': 101,\n",
              " 'and': 6,\n",
              " 'member': 54,\n",
              " 'parliament': 69,\n",
              " 'mp': 58,\n",
              " 'for': 26,\n",
              " 'varanasi': 104,\n",
              " 'he': 34,\n",
              " 'bharatiya': 12,\n",
              " 'janata': 47,\n",
              " 'party': 70,\n",
              " 'bjp': 13,\n",
              " 'rashtriya': 78,\n",
              " 'swayamsevak': 96,\n",
              " 'sangh': 84,\n",
              " 'rss': 83,\n",
              " 'right': 81,\n",
              " 'wing': 111,\n",
              " 'hindu': 40,\n",
              " 'nationalist': 61,\n",
              " 'paramilitary': 68,\n",
              " 'volunteer': 105,\n",
              " 'organisation': 66,\n",
              " 'longest': 51,\n",
              " 'serving': 90,\n",
              " 'outside': 67,\n",
              " 'national': 60,\n",
              " 'congress': 17,\n",
              " 'raised': 76,\n",
              " 'in': 42,\n",
              " 'vadnagar': 103,\n",
              " 'northeastern': 62,\n",
              " 'where': 108,\n",
              " 'completed': 16,\n",
              " 'his': 41,\n",
              " 'secondary': 85,\n",
              " 'education': 22,\n",
              " 'introduced': 45,\n",
              " 'at': 9,\n",
              " 'age': 4,\n",
              " 'eight': 23,\n",
              " 'account': 1,\n",
              " 'helping': 36,\n",
              " 'father': 25,\n",
              " 'sell': 87,\n",
              " 'tea': 97,\n",
              " 'railway': 75,\n",
              " 'station': 95,\n",
              " 'not': 63,\n",
              " 'been': 11,\n",
              " 'reliably': 79,\n",
              " 'corroborated': 18,\n",
              " 'married': 52,\n",
              " 'jashodaben': 48,\n",
              " 'whom': 110,\n",
              " 'abandoned': 0,\n",
              " 'soon': 94,\n",
              " 'after': 3,\n",
              " 'only': 65,\n",
              " 'publicly': 74,\n",
              " 'acknowledging': 2,\n",
              " 'her': 37,\n",
              " 'four': 27,\n",
              " 'decades': 20,\n",
              " 'later': 49,\n",
              " 'when': 107,\n",
              " 'legally': 50,\n",
              " 'required': 80,\n",
              " 'do': 21,\n",
              " 'so': 93,\n",
              " 'became': 10,\n",
              " 'full': 29,\n",
              " 'time': 100,\n",
              " 'worker': 113,\n",
              " 'assigned': 8,\n",
              " 'him': 39,\n",
              " 'held': 35,\n",
              " 'several': 91,\n",
              " 'positions': 72,\n",
              " 'within': 112,\n",
              " 'hierarchy': 38,\n",
              " 'until': 102,\n",
              " 'rising': 82,\n",
              " 'rank': 77,\n",
              " 'general': 30,\n",
              " 'secretary': 86}"
            ]
          },
          "metadata": {},
          "execution_count": 32
        }
      ]
    },
    {
      "cell_type": "code",
      "source": [
        " corpus[0]"
      ],
      "metadata": {
        "colab": {
          "base_uri": "https://localhost:8080/",
          "height": 71
        },
        "id": "6VxquQfdm9B8",
        "outputId": "4e1f1486-7757-43e8-b3cc-98cf89ea7be8"
      },
      "execution_count": 34,
      "outputs": [
        {
          "output_type": "execute_result",
          "data": {
            "text/plain": [
              "'Narendra Damodardas Modi  Gujarati    n  end   d mod   d s  modi      born    September       b  is an Indian politician who has served as the   th prime minister of India since May      '"
            ],
            "application/vnd.google.colaboratory.intrinsic+json": {
              "type": "string"
            }
          },
          "metadata": {},
          "execution_count": 34
        }
      ]
    },
    {
      "cell_type": "code",
      "source": [
        "X[0].toarray()"
      ],
      "metadata": {
        "colab": {
          "base_uri": "https://localhost:8080/"
        },
        "id": "R4IhGrh-jhiW",
        "outputId": "b169e258-b619-4914-8071-43d339b19194"
      },
      "execution_count": 33,
      "outputs": [
        {
          "output_type": "execute_result",
          "data": {
            "text/plain": [
              "array([[0, 0, 0, 0, 0, 1, 0, 1, 0, 0, 0, 0, 0, 0, 1, 0, 0, 0, 0, 1, 0, 0,\n",
              "        0, 0, 1, 0, 0, 0, 0, 0, 0, 0, 1, 1, 0, 0, 0, 0, 0, 0, 0, 0, 0, 1,\n",
              "        1, 0, 1, 0, 0, 0, 0, 0, 0, 1, 0, 1, 1, 2, 0, 1, 0, 0, 0, 0, 1, 0,\n",
              "        0, 0, 0, 0, 0, 1, 0, 1, 0, 0, 0, 0, 0, 0, 0, 0, 0, 0, 0, 0, 0, 0,\n",
              "        1, 1, 0, 0, 1, 0, 0, 0, 0, 0, 1, 1, 0, 0, 0, 0, 0, 0, 0, 0, 0, 1,\n",
              "        0, 0, 0, 0]])"
            ]
          },
          "metadata": {},
          "execution_count": 33
        }
      ]
    },
    {
      "cell_type": "code",
      "source": [
        "cv=CountVectorizer(binary=True)"
      ],
      "metadata": {
        "id": "p1xFdKV1mzJM"
      },
      "execution_count": 35,
      "outputs": []
    },
    {
      "cell_type": "code",
      "source": [
        "X=cv.fit_transform(corpus)"
      ],
      "metadata": {
        "id": "kKl1QtdZoecw"
      },
      "execution_count": 38,
      "outputs": []
    },
    {
      "cell_type": "code",
      "source": [
        "X[0].toarray()"
      ],
      "metadata": {
        "colab": {
          "base_uri": "https://localhost:8080/"
        },
        "id": "JVDUYmkOoV6K",
        "outputId": "fd8ab87d-8db5-41b7-fe4c-cb0235f59227"
      },
      "execution_count": 39,
      "outputs": [
        {
          "output_type": "execute_result",
          "data": {
            "text/plain": [
              "array([[0, 0, 0, 0, 0, 1, 0, 1, 0, 0, 0, 0, 0, 0, 1, 0, 0, 0, 0, 1, 0, 0,\n",
              "        0, 0, 1, 0, 0, 0, 0, 0, 0, 0, 1, 1, 0, 0, 0, 0, 0, 0, 0, 0, 0, 1,\n",
              "        1, 0, 1, 0, 0, 0, 0, 0, 0, 1, 0, 1, 1, 1, 0, 1, 0, 0, 0, 0, 1, 0,\n",
              "        0, 0, 0, 0, 0, 1, 0, 1, 0, 0, 0, 0, 0, 0, 0, 0, 0, 0, 0, 0, 0, 0,\n",
              "        1, 1, 0, 0, 1, 0, 0, 0, 0, 0, 1, 1, 0, 0, 0, 0, 0, 0, 0, 0, 0, 1,\n",
              "        0, 0, 0, 0]])"
            ]
          },
          "metadata": {},
          "execution_count": 39
        }
      ]
    },
    {
      "cell_type": "markdown",
      "source": [
        "Tf-Idf"
      ],
      "metadata": {
        "id": "e8x4U_zd8dA3"
      }
    },
    {
      "cell_type": "code",
      "source": [
        "from sklearn.feature_extraction.text import TfidfVectorizer\n",
        "cv=TfidfVectorizer(ngram_range=(1,1),max_features=3)"
      ],
      "metadata": {
        "id": "zNaejdkUoawA"
      },
      "execution_count": 44,
      "outputs": []
    },
    {
      "cell_type": "code",
      "source": [
        "X=cv.fit_transform(corpus)"
      ],
      "metadata": {
        "id": "PcIF3oKG8m4L"
      },
      "execution_count": 45,
      "outputs": []
    },
    {
      "cell_type": "code",
      "source": [
        "corpus[0]"
      ],
      "metadata": {
        "colab": {
          "base_uri": "https://localhost:8080/",
          "height": 71
        },
        "id": "_nx1Qdy78o8o",
        "outputId": "95b5650c-a2aa-48c6-d28c-f536465709ac"
      },
      "execution_count": 46,
      "outputs": [
        {
          "output_type": "execute_result",
          "data": {
            "text/plain": [
              "'Narendra Damodardas Modi  Gujarati    n  end   d mod   d s  modi      born    September       b  is an Indian politician who has served as the   th prime minister of India since May      '"
            ],
            "application/vnd.google.colaboratory.intrinsic+json": {
              "type": "string"
            }
          },
          "metadata": {},
          "execution_count": 46
        }
      ]
    },
    {
      "cell_type": "code",
      "source": [
        " X[0].toarray()"
      ],
      "metadata": {
        "colab": {
          "base_uri": "https://localhost:8080/"
        },
        "id": "8tXf-Ksn8qEG",
        "outputId": "8777e013-3382-449b-ab1e-baf8d911e622"
      },
      "execution_count": 47,
      "outputs": [
        {
          "output_type": "execute_result",
          "data": {
            "text/plain": [
              "array([[0.        , 0.7706477 , 0.63726142]])"
            ]
          },
          "metadata": {},
          "execution_count": 47
        }
      ]
    },
    {
      "cell_type": "code",
      "source": [],
      "metadata": {
        "id": "e57xZmUm80eq"
      },
      "execution_count": null,
      "outputs": []
    }
  ]
}