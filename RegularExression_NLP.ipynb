{
  "nbformat": 4,
  "nbformat_minor": 0,
  "metadata": {
    "colab": {
      "provenance": []
    },
    "kernelspec": {
      "name": "python3",
      "display_name": "Python 3"
    },
    "language_info": {
      "name": "python"
    }
  },
  "cells": [
    {
      "cell_type": "code",
      "source": [
        "import re"
      ],
      "metadata": {
        "id": "PE6wQw5xgIYu"
      },
      "execution_count": 1,
      "outputs": []
    },
    {
      "cell_type": "code",
      "source": [
        "txt = 'Hello Amigos! How are yu?'"
      ],
      "metadata": {
        "id": "Fk6MWX3tgNe0"
      },
      "execution_count": 2,
      "outputs": []
    },
    {
      "cell_type": "markdown",
      "source": [
        "Searching only for once"
      ],
      "metadata": {
        "id": "sd3wkg_lgqqW"
      }
    },
    {
      "cell_type": "code",
      "source": [
        "srch=re.search('yu',txt)"
      ],
      "metadata": {
        "id": "Sba-Mn_1gXr2"
      },
      "execution_count": 4,
      "outputs": []
    },
    {
      "cell_type": "code",
      "source": [
        "srch.span()"
      ],
      "metadata": {
        "colab": {
          "base_uri": "https://localhost:8080/"
        },
        "id": "BfURGAGdgc-h",
        "outputId": "50f092d4-f25e-4080-c070-5439669f964b"
      },
      "execution_count": 5,
      "outputs": [
        {
          "output_type": "execute_result",
          "data": {
            "text/plain": [
              "(22, 24)"
            ]
          },
          "metadata": {},
          "execution_count": 5
        }
      ]
    },
    {
      "cell_type": "code",
      "source": [
        "srch"
      ],
      "metadata": {
        "colab": {
          "base_uri": "https://localhost:8080/"
        },
        "id": "0PhUjP-pgm6m",
        "outputId": "1b4912e0-493d-4fca-8408-d4aa01e85407"
      },
      "execution_count": 6,
      "outputs": [
        {
          "output_type": "execute_result",
          "data": {
            "text/plain": [
              "<re.Match object; span=(22, 24), match='yu'>"
            ]
          },
          "metadata": {},
          "execution_count": 6
        }
      ]
    },
    {
      "cell_type": "code",
      "source": [
        "a='Hello Amigos! How are yu?'\n",
        "b='Amigo'\n",
        "re.search(b,a)"
      ],
      "metadata": {
        "colab": {
          "base_uri": "https://localhost:8080/"
        },
        "id": "WGk_49zZgnuc",
        "outputId": "63f97553-5b65-4bc4-a499-db695fb13eb4"
      },
      "execution_count": 7,
      "outputs": [
        {
          "output_type": "execute_result",
          "data": {
            "text/plain": [
              "<re.Match object; span=(6, 11), match='Amigo'>"
            ]
          },
          "metadata": {},
          "execution_count": 7
        }
      ]
    },
    {
      "cell_type": "markdown",
      "source": [
        "Findall"
      ],
      "metadata": {
        "id": "cKDLHbSzg_pE"
      }
    },
    {
      "cell_type": "code",
      "source": [
        "a='Hello Amigos! How are yu Amigos, Gud bye Amigo?'\n",
        "b='Amigo'\n",
        "re.findall(b,a)\n",
        "len(re.findall(b,a))"
      ],
      "metadata": {
        "colab": {
          "base_uri": "https://localhost:8080/"
        },
        "id": "TFxJBlRpg7BU",
        "outputId": "e66fadc5-fd39-4524-8ee7-e16701da02dd"
      },
      "execution_count": 10,
      "outputs": [
        {
          "output_type": "execute_result",
          "data": {
            "text/plain": [
              "3"
            ]
          },
          "metadata": {},
          "execution_count": 10
        }
      ]
    },
    {
      "cell_type": "markdown",
      "source": [
        "FindIter"
      ],
      "metadata": {
        "id": "lLRXaFMxhWHO"
      }
    },
    {
      "cell_type": "code",
      "source": [
        "for s in re.finditer(b,a):\n",
        "  print(s.span())\n"
      ],
      "metadata": {
        "colab": {
          "base_uri": "https://localhost:8080/"
        },
        "id": "CWQbuLnihDko",
        "outputId": "98320223-290a-4094-b815-3bc6394c3e09"
      },
      "execution_count": 12,
      "outputs": [
        {
          "output_type": "stream",
          "name": "stdout",
          "text": [
            "(6, 11)\n",
            "(25, 30)\n",
            "(41, 46)\n"
          ]
        }
      ]
    },
    {
      "cell_type": "markdown",
      "source": [
        "https://www.geeksforgeeks.org/regular-expression-python-examples-set-1/\n"
      ],
      "metadata": {
        "id": "gI778er8iBdY"
      }
    },
    {
      "cell_type": "markdown",
      "source": [
        "https://www.geeksforgeeks.org/natural-language-processing-nlp-tutorial/"
      ],
      "metadata": {
        "id": "MH39xqJxiY9f"
      }
    },
    {
      "cell_type": "markdown",
      "source": [
        "How to create Regular Expressions"
      ],
      "metadata": {
        "id": "Iq-96PnbivFA"
      }
    },
    {
      "cell_type": "code",
      "source": [
        "txt='My Telehone num is 345-4567-890'\n",
        "pattern = '\\d\\d\\d-\\d\\d\\d\\d-\\d\\d\\d'\n",
        "print(re.search(pattern,txt))"
      ],
      "metadata": {
        "colab": {
          "base_uri": "https://localhost:8080/"
        },
        "id": "JWtuDyqthefb",
        "outputId": "7858f84f-ed3e-471b-ebf7-59a3ff25fdc2"
      },
      "execution_count": 15,
      "outputs": [
        {
          "output_type": "stream",
          "name": "stdout",
          "text": [
            "<re.Match object; span=(19, 31), match='345-4567-890'>\n"
          ]
        }
      ]
    },
    {
      "cell_type": "code",
      "source": [
        "txt='My Telehone num is 3454567890'\n",
        "pattern = '\\d\\d\\d\\d\\d\\d\\d\\d\\d\\d'\n",
        "print(re.search(pattern,txt))"
      ],
      "metadata": {
        "colab": {
          "base_uri": "https://localhost:8080/"
        },
        "id": "iSz_bHgckdlt",
        "outputId": "dc99be2e-5c7d-457a-f5a6-cdf91bf7803e"
      },
      "execution_count": 16,
      "outputs": [
        {
          "output_type": "stream",
          "name": "stdout",
          "text": [
            "<re.Match object; span=(19, 29), match='3454567890'>\n"
          ]
        }
      ]
    },
    {
      "cell_type": "code",
      "source": [
        "txt='My Telehone num is 345-4567-890'\n",
        "pattern = '\\d{3}-\\d{4}-\\d{3}'\n",
        "print(re.search(pattern,txt))"
      ],
      "metadata": {
        "colab": {
          "base_uri": "https://localhost:8080/"
        },
        "id": "Uc4ahdgfkoqR",
        "outputId": "d45204b2-017e-4a8b-88b4-cfc9ed49a920"
      },
      "execution_count": 17,
      "outputs": [
        {
          "output_type": "stream",
          "name": "stdout",
          "text": [
            "<re.Match object; span=(19, 31), match='345-4567-890'>\n"
          ]
        }
      ]
    },
    {
      "cell_type": "code",
      "source": [
        "txt='My Telehone num is 345-4567-890'\n",
        "pattern = '\\w\\w\\w'\n",
        "print(re.search(pattern,txt))"
      ],
      "metadata": {
        "colab": {
          "base_uri": "https://localhost:8080/"
        },
        "id": "zJw5lRCpkwoC",
        "outputId": "751fcb55-5fa9-481d-e76e-2a82225de9d3"
      },
      "execution_count": 18,
      "outputs": [
        {
          "output_type": "stream",
          "name": "stdout",
          "text": [
            "<re.Match object; span=(3, 6), match='Tel'>\n"
          ]
        }
      ]
    },
    {
      "cell_type": "code",
      "source": [
        "txt='My Telehone num is 345-4567-890'\n",
        "pattern = '\\w\\w\\w\\w\\w\\w\\w\\w'\n",
        "print(re.search(pattern,txt))"
      ],
      "metadata": {
        "colab": {
          "base_uri": "https://localhost:8080/"
        },
        "id": "Kh3T1o-4k1ld",
        "outputId": "8d8eef5e-b2fb-4739-d778-68f2d696bb3b"
      },
      "execution_count": 21,
      "outputs": [
        {
          "output_type": "stream",
          "name": "stdout",
          "text": [
            "<re.Match object; span=(3, 11), match='Telehone'>\n"
          ]
        }
      ]
    },
    {
      "cell_type": "code",
      "source": [
        "pattern = '\\d\\d\\d-\\d\\d\\d\\d-\\d\\d\\d'\n",
        "re.search(pattern,txt).group()"
      ],
      "metadata": {
        "colab": {
          "base_uri": "https://localhost:8080/",
          "height": 36
        },
        "id": "mcOvP9_tk5GR",
        "outputId": "17267b12-2e82-4144-9035-0e1ed5e9e5b2"
      },
      "execution_count": 24,
      "outputs": [
        {
          "output_type": "execute_result",
          "data": {
            "text/plain": [
              "'345-4567-890'"
            ],
            "application/vnd.google.colaboratory.intrinsic+json": {
              "type": "string"
            }
          },
          "metadata": {},
          "execution_count": 24
        }
      ]
    },
    {
      "cell_type": "markdown",
      "source": [
        "website: regex101.com"
      ],
      "metadata": {
        "id": "p8zzE2NilZfe"
      }
    },
    {
      "cell_type": "code",
      "source": [],
      "metadata": {
        "id": "CBqOpCXplHfS"
      },
      "execution_count": null,
      "outputs": []
    }
  ]
}